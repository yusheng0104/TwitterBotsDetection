{
 "cells": [
  {
   "cell_type": "markdown",
   "metadata": {},
   "source": [
    "**LOAD LIBRARIES**"
   ]
  },
  {
   "cell_type": "code",
   "execution_count": 3,
   "metadata": {},
   "outputs": [],
   "source": [
    "import numpy as np\n",
    "import pandas as pd\n",
    "import matplotlib\n",
    "import matplotlib.pyplot as plt\n",
    "import re\n",
    "import json\n",
    "import tweepy as tp\n",
    "import twitter_credentials\n",
    "import io\n",
    "import requests"
   ]
  },
  {
   "cell_type": "markdown",
   "metadata": {},
   "source": [
    "# 1.0 DATA COLLECTION - BOT READER\n",
    "\n",
    "This Notebook reads Tweets from known bots that have been publishded to nbcnews.com.\n",
    "\n",
    "https://www.nbcnews.com/tech/social-media/now-available-more-200-000-deleted-russian-troll-tweets-n844731"
   ]
  },
  {
   "cell_type": "markdown",
   "metadata": {},
   "source": [
    "**READ DATA INTO DATAFRAMES FROM FROM NBC Website**\n",
    "\n"
   ]
  },
  {
   "cell_type": "code",
   "execution_count": 6,
   "metadata": {},
   "outputs": [
    {
     "name": "stdout",
     "output_type": "stream",
     "text": [
      "user_id                  float64\n",
      "user_key                  object\n",
      "created_at               float64\n",
      "created_str               object\n",
      "retweet_count            float64\n",
      "retweeted                 object\n",
      "favorite_count           float64\n",
      "text                      object\n",
      "tweet_id                 float64\n",
      "source                    object\n",
      "hashtags                  object\n",
      "expanded_urls             object\n",
      "posted                    object\n",
      "mentions                  object\n",
      "retweeted_status_id      float64\n",
      "in_reply_to_status_id    float64\n",
      "dtype: object\n",
      "(453, 14)\n"
     ]
    }
   ],
   "source": [
    "#!/usr/bin/env python3\n",
    "# -*- coding: utf-8 -*-\n",
    "\"\"\"\n",
    "Created on Sat Jul 14 22:45:11 2018\n",
    "@authors: andrewcaide and eumarassis\n",
    "bot list pulled from:\n",
    "    https://www.nbcnews.com/tech/social-media/now-available-more-200-000-deleted-russian-troll-tweets-n844731\n",
    "\"\"\"\n",
    "\n",
    "\n",
    "tweets_url = \"http://nodeassets.nbcnews.com/russian-twitter-trolls/tweets.csv\"\n",
    "tweets_content = requests.get(tweets_url).content\n",
    "\n",
    "bots_url = \"http://nodeassets.nbcnews.com/russian-twitter-trolls/users.csv\"\n",
    "bots_content = requests.get(bots_url).content\n",
    "\n",
    "bots = pd.read_csv(io.StringIO(bots_content.decode('utf-8')))\n",
    "tweets = pd.read_csv(io.StringIO(tweets_content.decode('utf-8')))\n",
    "\n",
    "print(tweets.dtypes)\n",
    "\n",
    "def produce_bot_LoDs(bots, tweets):\n",
    "    '''\n",
    "    Read in dataframe of bots and their tweets. Organize them according to Mark's format. \n",
    "    \n",
    "    Args: \n",
    "        dataframes - Bots, Tweets\n",
    "    \n",
    "    Returns: \n",
    "        Cleaned dataframe, with an extra column: 'Bot_Status' = True\n",
    "    '''\n",
    "    # Fix tweets:\n",
    "    tweet_colnames = ['created_at','favorite_count','id','id_str','is_tweet','lang','retweet_count',\n",
    "                 'source','text','truncated','user_screen_name']\n",
    "    \n",
    "    # Ask mark to see if he can pull out hashtags from his tweets!!\n",
    "    tweets['truncated'] = False\n",
    "    tweets['is_tweet'] = tweets['text'].apply(lambda x: False if str(x).find('RT') == -1 else True)\n",
    "    tweets = tweets.rename(columns={'tweet_id': 'id'}) \n",
    "    tweets['id_str'] = str(tweets['id'])\n",
    "    tweets['user_screen_name'] = tweets['user_key']\n",
    "    tweets['lang'] = 'en'\n",
    "    #tweets['created_at'] = tweets['created_str']\n",
    "    \n",
    "    tweet_output = tweets[tweet_colnames]\n",
    "    \n",
    "    # Fix users:\n",
    "    user_colnames = ['created_at','description','favourites_count','followers_count','id',\n",
    "                      'lang','listed_count','location','name','screen_name','statuses_count',\n",
    "                      'time_zone','verified']\n",
    "    \n",
    "    bots_output = bots[user_colnames]\n",
    "    bots_output['known_bot'] = True\n",
    "    return(bots_output, tweet_output)\n",
    "\n",
    "\n",
    "bots_Clean, tweets_Clean = produce_bot_LoDs(bots, tweets)\n",
    "\n",
    "print(bots_Clean.shape)"
   ]
  },
  {
   "cell_type": "markdown",
   "metadata": {},
   "source": [
    "**WRITE DATAFRAMES WITH BOT TWEETS AND USERS TO JSON FILE**"
   ]
  },
  {
   "cell_type": "code",
   "execution_count": 8,
   "metadata": {
    "scrolled": true
   },
   "outputs": [],
   "source": [
    "user_json = bots_Clean.to_json(orient='records')\n",
    "tweet_json = tweets_Clean.to_json(orient='records')\n",
    "\n",
    "with open('data/b_tweet_table_out.json', 'w') as outfile:  \n",
    "    json.dump(tweet_json, outfile)\n",
    "    \n",
    "with open('data/b_user_table_out.json', 'w') as outfile:  \n",
    "    json.dump(user_json, outfile)"
   ]
  },
  {
   "cell_type": "code",
   "execution_count": null,
   "metadata": {},
   "outputs": [],
   "source": []
  }
 ],
 "metadata": {
  "kernelspec": {
   "display_name": "Python 3",
   "language": "python",
   "name": "python3"
  },
  "language_info": {
   "codemirror_mode": {
    "name": "ipython",
    "version": 3
   },
   "file_extension": ".py",
   "mimetype": "text/x-python",
   "name": "python",
   "nbconvert_exporter": "python",
   "pygments_lexer": "ipython3",
   "version": "3.6.4"
  }
 },
 "nbformat": 4,
 "nbformat_minor": 2
}

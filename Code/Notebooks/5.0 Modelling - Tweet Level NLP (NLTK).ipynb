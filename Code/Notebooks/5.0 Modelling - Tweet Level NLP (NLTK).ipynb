{
 "cells": [
  {
   "cell_type": "markdown",
   "metadata": {},
   "source": [
    "## LOAD LIBRARIES"
   ]
  },
  {
   "cell_type": "code",
   "execution_count": 23,
   "metadata": {},
   "outputs": [],
   "source": [
    "import numpy as np\n",
    "import pandas as pd\n",
    "import matplotlib\n",
    "import matplotlib.pyplot as plt\n",
    "import json\n",
    "import requests\n",
    "import io\n",
    "\n",
    "import warnings\n",
    "warnings.simplefilter('ignore')\n",
    "\n",
    "from sklearn import preprocessing\n",
    "from sklearn.preprocessing import StandardScaler\n",
    "from sklearn.preprocessing import MinMaxScaler\n",
    "\n",
    "from sklearn.metrics import accuracy_score\n",
    "\n",
    "from sklearn.neighbors import KNeighborsClassifier\n",
    "from sklearn.linear_model import LogisticRegression\n",
    "from sklearn.discriminant_analysis import LinearDiscriminantAnalysis\n",
    "from sklearn.discriminant_analysis import QuadraticDiscriminantAnalysis\n",
    "from sklearn.tree import DecisionTreeClassifier\n",
    "from sklearn.ensemble import RandomForestClassifier\n",
    "from sklearn.ensemble import AdaBoostClassifier\n",
    "\n",
    "from sklearn.model_selection import GridSearchCV\n",
    "\n",
    "from keras.models import Sequential\n",
    "from keras.layers import Dense\n",
    "from keras.utils import to_categorical\n",
    "\n",
    "from IPython.display import display, HTML, Image"
   ]
  },
  {
   "cell_type": "markdown",
   "metadata": {},
   "source": [
    "# 4.0. Modeling \n",
    "\n",
    "The modeling in this Notebook mirrors what we performed in our later assignments, involving many classes of models. \n",
    "\n",
    "- This Notebook presents the second NLP analysis that was conducted by hand using the NLTK library.\n",
    "- Different than Notebook 4, all the modeling performed in this Notebook does not aggregate data by Twitter user. "
   ]
  },
  {
   "cell_type": "markdown",
   "metadata": {},
   "source": [
    "## NLP"
   ]
  },
  {
   "cell_type": "code",
   "execution_count": 25,
   "metadata": {},
   "outputs": [
    {
     "name": "stdout",
     "output_type": "stream",
     "text": [
      "Loading  Data\n",
      "Loading Data from Azure - does not exist locally\n"
     ]
    },
    {
     "data": {
      "text/plain": [
       "(51106, 30)"
      ]
     },
     "execution_count": 25,
     "metadata": {},
     "output_type": "execute_result"
    }
   ],
   "source": [
    "print(\"Loading  Data\")\n",
    "# try to load files locally, if don't exist, we load try to load from Microsoft Azure. \n",
    "#We could not upload to Github.com because we are using a private repository and the files were to large.\n",
    "\n",
    "try:\n",
    "    with open(\"data/final_tweets_master_withNLP.json\") as datafile:\n",
    "        data = json.load(datafile)\n",
    "\n",
    "    text_data = pd.read_json(data)\n",
    "except Exception as e:\n",
    "    print(\"Loading data from Azure - data files do not exist locally\")\n",
    "    data_url = \"https://eumarharvardfiles.blob.core.windows.net/cscis109/final_tweets_master_withNLP.json\"\n",
    "    data_content = requests.get(data_url).content\n",
    "\n",
    "    text_data = pd.read_json(json.load(io.StringIO(data_content.decode('utf-8'))))\n",
    "    \n",
    "    \n",
    "text_data.shape"
   ]
  },
  {
   "cell_type": "code",
   "execution_count": 26,
   "metadata": {},
   "outputs": [
    {
     "name": "stdout",
     "output_type": "stream",
     "text": [
      "\n",
      "Let's investigate how many are bots (True) and how many aren't (False):\n",
      "\n",
      "known_bot\n",
      "False     8203\n",
      "True     42903\n",
      "Name: TypeOfUser, dtype: int64\n"
     ]
    }
   ],
   "source": [
    "print(\"\\nLet's investigate how many are bots (True) and how many aren't (False):\\n\")\n",
    "print(text_data.groupby('known_bot').count()['TypeOfUser'])"
   ]
  },
  {
   "cell_type": "code",
   "execution_count": 27,
   "metadata": {},
   "outputs": [
    {
     "name": "stdout",
     "output_type": "stream",
     "text": [
      "\n",
      "Next we'll polish the dataframe by removing NAs (might not be necessary).\n",
      "\n",
      "Original, non-retweeted count of bot tweets: 51106.\n",
      "Count after removing empty tweets: 50757.\n",
      "\n"
     ]
    }
   ],
   "source": [
    "print(\"\\nNext we'll polish the dataframe by removing NAs (might not be necessary).\\n\")\n",
    "from nltk.tokenize import TweetTokenizer\n",
    "tt = TweetTokenizer()\n",
    "\n",
    "print(\"Original, non-retweeted count of bot tweets: {}.\".format(len(text_data)))\n",
    "text_data.dropna(subset=['text'], inplace=True)\n",
    "print(\"Count after removing empty tweets: {}.\\n\".format(len(text_data)))\n",
    "\n",
    "\n",
    "useful_cols = ['followers_count','known_bot','text','tokens','name',\n",
    "               'nlp_key_phrases','nlp_sentiment_score','nlp_count_key_phrases','is_tweet', 'tweet_length']\n",
    "text_data['tokens'] = text_data['text'].apply(tt.tokenize)\n",
    "\n",
    "text_data['tweet_length'] = text_data['tokens'].str.len()\n",
    "\n",
    "bot_texts = text_data.loc[text_data.known_bot == True][useful_cols]\n",
    "real_texts= text_data.loc[text_data.known_bot == False][useful_cols]"
   ]
  },
  {
   "cell_type": "code",
   "execution_count": 5,
   "metadata": {},
   "outputs": [
    {
     "name": "stdout",
     "output_type": "stream",
     "text": [
      "\n",
      "Let's look at the distribution of tweet lengths by bot vs tweet lengths by real people. We achieve this by tokenizing the tweet sentences with the NLTK package (natural language processing library).Next we group by name and find the mean tweet length by user name.\n",
      "\n"
     ]
    },
    {
     "data": {
      "text/plain": [
       "<matplotlib.legend.Legend at 0x1a36bf9240>"
      ]
     },
     "execution_count": 5,
     "metadata": {},
     "output_type": "execute_result"
    },
    {
     "data": {
      "image/png": "[encoded data removed]",
      "text/plain": [
       "<Figure size 432x432 with 1 Axes>"
      ]
     },
     "metadata": {},
     "output_type": "display_data"
    }
   ],
   "source": [
    "print(\"\\nLet's look at the distribution of tweet lengths by bot vs tweet lengths by real people. \\\n",
    "We achieve this by tokenizing the tweet sentences with the NLTK package (natural language processing library).\\\n",
    "Next we group by name and find the mean tweet length by user name.\\n\")\n",
    "tweet_len_by_bot = bot_texts.groupby(['name']).tweet_length.mean().sort_values(ascending=False)\n",
    "tweet_len_by_usr = real_texts.groupby(['name']).tweet_length.mean().sort_values(ascending=False)\n",
    "\n",
    "\n",
    "fig, ax = plt.subplots(1,1, figsize= (6,6))\n",
    "ax.hist([tweet_len_by_bot,tweet_len_by_usr], bins = int(max(tweet_len_by_bot)), \n",
    "        label=[\"Bot Tweets\",\"People Tweets\"], alpha=0.3)\n",
    "ax.set_title(\"Histogram of Mean Tweet Word Length per User(Bot)\")\n",
    "ax.set_ylabel(\"Tweets\")\n",
    "ax.set_xlabel(\"Count\")\n",
    "ax.legend()"
   ]
  },
  {
   "cell_type": "code",
   "execution_count": 28,
   "metadata": {},
   "outputs": [
    {
     "name": "stdout",
     "output_type": "stream",
     "text": [
      "\n",
      "There's no real pattern shown there, but let's take one more look by box plotting:\n",
      "\n"
     ]
    },
    {
     "ename": "NameError",
     "evalue": "name 'tweet_len_by_bot' is not defined",
     "output_type": "error",
     "traceback": [
      "\u001b[1;31m---------------------------------------------------------------------------\u001b[0m",
      "\u001b[1;31mNameError\u001b[0m                                 Traceback (most recent call last)",
      "\u001b[1;32m<ipython-input-28-d8f98422d259>\u001b[0m in \u001b[0;36m<module>\u001b[1;34m()\u001b[0m\n\u001b[0;32m      1\u001b[0m \u001b[0mprint\u001b[0m\u001b[1;33m(\u001b[0m\u001b[1;34m\"\\nThere's no real pattern shown there, but let's take one more look by box plotting:\\n\"\u001b[0m\u001b[1;33m)\u001b[0m\u001b[1;33m\u001b[0m\u001b[0m\n\u001b[1;32m----> 2\u001b[1;33m \u001b[0mplt\u001b[0m\u001b[1;33m.\u001b[0m\u001b[0mboxplot\u001b[0m \u001b[1;33m(\u001b[0m\u001b[1;33m[\u001b[0m\u001b[0mtweet_len_by_bot\u001b[0m\u001b[1;33m,\u001b[0m \u001b[0mtweet_len_by_usr\u001b[0m\u001b[1;33m]\u001b[0m\u001b[1;33m,\u001b[0m \u001b[0mlabels\u001b[0m\u001b[1;33m=\u001b[0m\u001b[1;33m[\u001b[0m\u001b[1;34m'Bot'\u001b[0m\u001b[1;33m,\u001b[0m\u001b[1;34m'Person'\u001b[0m\u001b[1;33m]\u001b[0m\u001b[1;33m)\u001b[0m\u001b[1;33m\u001b[0m\u001b[0m\n\u001b[0m\u001b[0;32m      3\u001b[0m \u001b[0mplt\u001b[0m\u001b[1;33m.\u001b[0m\u001b[0mylabel\u001b[0m\u001b[1;33m(\u001b[0m\u001b[1;34m\"Average tweet lengths\"\u001b[0m\u001b[1;33m)\u001b[0m\u001b[1;33m\u001b[0m\u001b[0m\n\u001b[0;32m      4\u001b[0m \u001b[0mplt\u001b[0m\u001b[1;33m.\u001b[0m\u001b[0mtitle\u001b[0m\u001b[1;33m(\u001b[0m\u001b[1;34m\"Average Tweet Lengths by Type of User\"\u001b[0m\u001b[1;33m)\u001b[0m\u001b[1;33m\u001b[0m\u001b[0m\n",
      "\u001b[1;31mNameError\u001b[0m: name 'tweet_len_by_bot' is not defined"
     ]
    }
   ],
   "source": [
    "print(\"\\nThere's no real pattern shown there, but let's take one more look by box plotting:\\n\")\n",
    "plt.boxplot ([tweet_len_by_bot, tweet_len_by_usr], labels=['Bot','Person'])\n",
    "plt.ylabel(\"Average tweet lengths\")\n",
    "plt.title(\"Average Tweet Lengths by Type of User\")"
   ]
  },
  {
   "cell_type": "code",
   "execution_count": 7,
   "metadata": {},
   "outputs": [
    {
     "name": "stdout",
     "output_type": "stream",
     "text": [
      "\n",
      "Above we can see that there's more variability in real people's sentences; this means people are having short and long conversations with huge variability in the length of their tweets. Bots however are having much more consice conversations of which 75% are 16-20 word length. Real people have 13-23 words in their tweets, on average.\n",
      "\n",
      "\n",
      "This is an excellent place to begin classification but it's only one parameter. Let's construct a much richer series of parameters on which to perform classification based on vocabulary. \n",
      "Next we shall investigate all of their tweets as one big bundle, and look at the vocabulary choices across several tweets. To begin, we shall aggregate by name and add the tokenized tweets to one big list.\n",
      "\n"
     ]
    }
   ],
   "source": [
    "print(\"\\nAbove we can see that there's more variability in real people's sentences; this means people are \\\n",
    "having short and long conversations with huge variability in the length of their tweets. Bots however are having \\\n",
    "much more consice conversations of which 75% are 16-20 word length. Real people have 13-23 words in their tweets, \\\n",
    "on average.\\n\")\n",
    "print(\"\\nThis is an excellent place to begin classification but it's only one parameter. Let's construct\\\n",
    " a much richer series of parameters on which to perform classification based on vocabulary. \\n\\\n",
    "Next we shall investigate all of their tweets as one big bundle, and look at the vocabulary choices across several \\\n",
    "tweets. To begin, we shall aggregate by name and add the tokenized tweets to one big list.\\n\")\n",
    "import nltk\n",
    "from nltk import FreqDist\n",
    "from nltk.corpus import stopwords\n",
    "import string\n",
    "\n",
    "# Actual NLP stuff. \n",
    "bot_words = bot_texts.groupby(['name']).tokens.agg(sum)\n",
    "usr_words = real_texts.groupby(['name']).tokens.agg(sum)"
   ]
  },
  {
   "cell_type": "code",
   "execution_count": null,
   "metadata": {},
   "outputs": [],
   "source": [
    "print(\"\\nThe next really important step is to remove all of the stop words. Stop words are \\\n",
    "essentially useless words that don't add value to sentiment analysis, such as 'the' or 'of'.\\n\")\n",
    "bot_words = pd.DataFrame(bot_words)\n",
    "usr_words = pd.DataFrame(usr_words)\n",
    "\n",
    "bot_words.columns = ['words']\n",
    "usr_words.columns = ['words']\n",
    "\n",
    "stop_words  = stopwords.words('english') + list(string.punctuation) + [' ','rt',\"\\'\", \"...\", \"..\",\"`\",'\\\"', '–', '’', \"I'm\", '…','\"\"','“','”']\n",
    "\n",
    "# Construct list of cleaned words\n",
    "usr_words['cleaned_words'] = [[word for word in words if word.lower() not in stop_words] \n",
    "                                for words in usr_words['words']]\n",
    "bot_words['cleaned_words'] = [[word for word in words if word.lower() not in stop_words] \n",
    "                              for words in bot_words['words']]"
   ]
  },
  {
   "cell_type": "code",
   "execution_count": 9,
   "metadata": {},
   "outputs": [
    {
     "name": "stdout",
     "output_type": "stream",
     "text": [
      "\n",
      "Next we'll get the counts and the frequencies of the words used. We'll also pull out the most used wordsby both groups to investigate what is going on in their respective tweets.\n",
      "\n"
     ]
    }
   ],
   "source": [
    "# Get the frequencies\n",
    "print(\"\\nNext we'll get the counts and the frequencies of the words used. We'll also pull out the most used words\\\n",
    "by both groups to investigate what is going on in their respective tweets.\\n\")\n",
    "freq_per_usr = FreqDist(list([a for b in usr_words.cleaned_words.tolist() for a in b]))\n",
    "freq_per_bot = FreqDist(list([a for b in bot_words.cleaned_words.tolist() for a in b]))\n",
    "\n",
    "# Most common words\n",
    "common_words_bot = pd.DataFrame(freq_per_bot.most_common())\n",
    "common_words_usr = pd.DataFrame(freq_per_usr.most_common())\n",
    "\n",
    "cols = [\"Words\", \"Count\"]\n",
    "common_words_bot.columns = cols\n",
    "common_words_usr.columns = cols\n",
    "\n",
    "common_words_usr['Frequency'] = common_words_usr['Count']/len(common_words_usr)\n",
    "common_words_bot['Frequency'] = common_words_bot['Count']/len(common_words_bot)"
   ]
  },
  {
   "cell_type": "code",
   "execution_count": 29,
   "metadata": {},
   "outputs": [
    {
     "name": "stdout",
     "output_type": "stream",
     "text": [
      "The following calculation was conducted on words greater than two letters. This removes silly 1-emoji tweets and the such.\n",
      "\n"
     ]
    },
    {
     "ename": "NameError",
     "evalue": "name 'common_words_usr' is not defined",
     "output_type": "error",
     "traceback": [
      "\u001b[1;31m---------------------------------------------------------------------------\u001b[0m",
      "\u001b[1;31mNameError\u001b[0m                                 Traceback (most recent call last)",
      "\u001b[1;32m<ipython-input-29-2cc1d9df1040>\u001b[0m in \u001b[0;36m<module>\u001b[1;34m()\u001b[0m\n\u001b[0;32m      1\u001b[0m \u001b[0mprint\u001b[0m\u001b[1;33m(\u001b[0m\u001b[1;34m\"The following calculation was conducted on words greater than two letters. This removes silly 1-emoji tweets and the such.\\n\"\u001b[0m\u001b[1;33m)\u001b[0m\u001b[1;33m\u001b[0m\u001b[0m\n\u001b[0;32m      2\u001b[0m \u001b[1;33m\u001b[0m\u001b[0m\n\u001b[1;32m----> 3\u001b[1;33m \u001b[0mfilter1\u001b[0m \u001b[1;33m=\u001b[0m \u001b[1;33m(\u001b[0m\u001b[0mcommon_words_usr\u001b[0m\u001b[1;33m[\u001b[0m\u001b[1;34m'Words'\u001b[0m\u001b[1;33m]\u001b[0m\u001b[1;33m.\u001b[0m\u001b[0mstr\u001b[0m\u001b[1;33m.\u001b[0m\u001b[0mlen\u001b[0m\u001b[1;33m(\u001b[0m\u001b[1;33m)\u001b[0m\u001b[1;33m>=\u001b[0m\u001b[1;36m3\u001b[0m\u001b[1;33m)\u001b[0m\u001b[1;33m\u001b[0m\u001b[0m\n\u001b[0m\u001b[0;32m      4\u001b[0m \u001b[0mfilter2\u001b[0m \u001b[1;33m=\u001b[0m \u001b[1;33m(\u001b[0m\u001b[0mcommon_words_bot\u001b[0m\u001b[1;33m[\u001b[0m\u001b[1;34m'Words'\u001b[0m\u001b[1;33m]\u001b[0m\u001b[1;33m.\u001b[0m\u001b[0mstr\u001b[0m\u001b[1;33m.\u001b[0m\u001b[0mlen\u001b[0m\u001b[1;33m(\u001b[0m\u001b[1;33m)\u001b[0m\u001b[1;33m>=\u001b[0m\u001b[1;36m3\u001b[0m\u001b[1;33m)\u001b[0m\u001b[1;33m\u001b[0m\u001b[0m\n\u001b[0;32m      5\u001b[0m \u001b[1;33m\u001b[0m\u001b[0m\n",
      "\u001b[1;31mNameError\u001b[0m: name 'common_words_usr' is not defined"
     ]
    }
   ],
   "source": [
    "print(\"The following calculation was conducted on words greater than two letters. This removes silly 1-emoji \\\n",
    "tweets and the such.\\n\")\n",
    "\n",
    "filter1 = (common_words_usr['Words'].str.len()>=3)\n",
    "filter2 = (common_words_bot['Words'].str.len()>=3)\n",
    "\n",
    "\n",
    "filtered_usr = common_words_usr.loc[filter1]\n",
    "filtered_bot = common_words_bot.loc[filter2]\n",
    "\n",
    "print(\"\\nThe top 15 words used in real tweets (out of {} unique words)::\\n\".format(len(filtered_usr)))\n",
    "print(filtered_usr[:15])\n",
    "print(\"\\nThe top 15 word used by all bots (out of {} unique words):\\n\".format(len(filtered_bot)))\n",
    "print(filtered_bot[:15])"
   ]
  },
  {
   "cell_type": "code",
   "execution_count": 11,
   "metadata": {},
   "outputs": [
    {
     "name": "stdout",
     "output_type": "stream",
     "text": [
      "\n",
      "It appears bots were over 10x more likely to be mentioning Trump - and making any references to politics.For instance, real people aren't talking about clinton, obama, and throwing http links.\n",
      "\n",
      "The plan now is to score users based on the top 10 words from the known bots. We'll assign one point to the user in the bot-word column every time the bot-word is used. First we'll declare the column names and set them to 0as default. This makes sense, because it should stay 0 if these topics aren't mentioned.\n",
      "\n"
     ]
    }
   ],
   "source": [
    "print(\"\\nIt appears bots were over 10x more likely to be mentioning Trump - and making any references to politics.\\\n",
    "For instance, real people aren't talking about clinton, obama, and throwing http links.\\n\")\n",
    "\n",
    "print(\"The plan now is to score users based on the top 10 words from the known bots. \\\n",
    "We'll assign one point to the user in the bot-word column every time the bot-word is used. \\\n",
    "First we'll declare the column names and set them to 0\\\n",
    "as default. This makes sense, because it should stay 0 if these topics aren't mentioned.\\n\")\n",
    "\n",
    "naughty_words = filtered_bot[:10]\n",
    "\n",
    "# Set these to 0\n",
    "for word in naughty_words['Words']:\n",
    "    text_data[word] = 0"
   ]
  },
  {
   "cell_type": "code",
   "execution_count": 30,
   "metadata": {},
   "outputs": [
    {
     "name": "stdout",
     "output_type": "stream",
     "text": [
      "\n",
      "Two steps in one: Aggregate all of the tweets with a groupby statement, then count the total number of instances of these words in each tokenenized tweet collection.\n",
      "\n"
     ]
    },
    {
     "ename": "NameError",
     "evalue": "name 'naughty_words' is not defined",
     "output_type": "error",
     "traceback": [
      "\u001b[1;31m---------------------------------------------------------------------------\u001b[0m",
      "\u001b[1;31mNameError\u001b[0m                                 Traceback (most recent call last)",
      "\u001b[1;32m<ipython-input-30-62d1850f2eaf>\u001b[0m in \u001b[0;36m<module>\u001b[1;34m()\u001b[0m\n\u001b[0;32m      1\u001b[0m \u001b[0mprint\u001b[0m\u001b[1;33m(\u001b[0m\u001b[1;34m\"\\nTwo steps in one: Aggregate all of the tweets with a groupby statement, then count the total number of instances of these words in each tokenenized tweet collection.\\n\"\u001b[0m\u001b[1;33m)\u001b[0m\u001b[1;33m\u001b[0m\u001b[0m\n\u001b[0;32m      2\u001b[0m \u001b[1;33m\u001b[0m\u001b[0m\n\u001b[1;32m----> 3\u001b[1;33m \u001b[1;32mfor\u001b[0m \u001b[0mword\u001b[0m \u001b[1;32min\u001b[0m \u001b[0mnaughty_words\u001b[0m\u001b[1;33m[\u001b[0m\u001b[1;34m'Words'\u001b[0m\u001b[1;33m]\u001b[0m\u001b[1;33m:\u001b[0m\u001b[1;33m\u001b[0m\u001b[0m\n\u001b[0m\u001b[0;32m      4\u001b[0m     \u001b[0mtext_data\u001b[0m\u001b[1;33m[\u001b[0m\u001b[0mword\u001b[0m\u001b[1;33m]\u001b[0m \u001b[1;33m=\u001b[0m \u001b[0mtext_data\u001b[0m\u001b[1;33m.\u001b[0m\u001b[0mapply\u001b[0m\u001b[1;33m(\u001b[0m\u001b[1;32mlambda\u001b[0m \u001b[0mrow\u001b[0m\u001b[1;33m:\u001b[0m \u001b[0mrow\u001b[0m\u001b[1;33m[\u001b[0m\u001b[1;34m'tokens'\u001b[0m\u001b[1;33m]\u001b[0m\u001b[1;33m.\u001b[0m\u001b[0mcount\u001b[0m\u001b[1;33m(\u001b[0m\u001b[0mword\u001b[0m\u001b[1;33m)\u001b[0m\u001b[1;33m,\u001b[0m \u001b[0maxis\u001b[0m\u001b[1;33m=\u001b[0m\u001b[1;36m1\u001b[0m\u001b[1;33m)\u001b[0m\u001b[1;33m\u001b[0m\u001b[0m\n",
      "\u001b[1;31mNameError\u001b[0m: name 'naughty_words' is not defined"
     ]
    }
   ],
   "source": [
    "print(\"\\nTwo steps in one: Aggregate all of the tweets with a groupby statement, \\\n",
    "then count the total number of instances of these words in each tokenenized tweet collection.\\n\")\n",
    "\n",
    "for word in naughty_words['Words']:\n",
    "    text_data[word] = text_data.apply(lambda row: row['tokens'].count(word), axis=1)"
   ]
  },
  {
   "cell_type": "code",
   "execution_count": 13,
   "metadata": {},
   "outputs": [
    {
     "name": "stdout",
     "output_type": "stream",
     "text": [
      "\n",
      "Let's make sure the tweet names are unique and the if-bot status remains:\n",
      "\n",
      "               Trump  Clinton  Hillary  Obama  people  https  like  Donald  \\\n",
      "name                                                                         \n",
      "1-800-WOKE-AF     72        9        8     39      41      4    20      49   \n",
      "19:37              4        1        0      1       0      0     1       0   \n",
      "Abigail Oduro      0        0        0      0       0      0     0       0   \n",
      "Abigail Silk       7        1        1      0       0      0     1       2   \n",
      "Addis  Gebre      13        0        1      2       3      0     0       1   \n",
      "\n",
      "               @blicqer  via  known_bot  \n",
      "name                                     \n",
      "1-800-WOKE-AF         0    0       True  \n",
      "19:37                 0    1       True  \n",
      "Abigail Oduro         0    0      False  \n",
      "Abigail Silk          0    0       True  \n",
      "Addis  Gebre          0    0      False  \n"
     ]
    }
   ],
   "source": [
    "# Now we merge the known bot status back in!\n",
    "print(\"\\nLet's make sure the tweet names are unique and the if-bot status remains:\\n\")\n",
    "text_by_names = text_data.groupby(['name']).sum()[naughty_words['Words']]\n",
    "to_join = text_data[['name','known_bot']].drop_duplicates().set_index('name')\n",
    "text_by_names=text_by_names.join(to_join, how='inner').drop_duplicates()\n",
    "\n",
    "print(text_by_names.head())"
   ]
  },
  {
   "cell_type": "code",
   "execution_count": 31,
   "metadata": {},
   "outputs": [
    {
     "ename": "NameError",
     "evalue": "name 'text_by_names' is not defined",
     "output_type": "error",
     "traceback": [
      "\u001b[1;31m---------------------------------------------------------------------------\u001b[0m",
      "\u001b[1;31mNameError\u001b[0m                                 Traceback (most recent call last)",
      "\u001b[1;32m<ipython-input-31-7c7d677a4a54>\u001b[0m in \u001b[0;36m<module>\u001b[1;34m()\u001b[0m\n\u001b[0;32m      3\u001b[0m \u001b[1;31m#   every person's unique text lengths\u001b[0m\u001b[1;33m\u001b[0m\u001b[1;33m\u001b[0m\u001b[0m\n\u001b[0;32m      4\u001b[0m \u001b[1;33m\u001b[0m\u001b[0m\n\u001b[1;32m----> 5\u001b[1;33m \u001b[0mbot_texts2\u001b[0m \u001b[1;33m=\u001b[0m \u001b[0mtext_by_names\u001b[0m\u001b[1;33m.\u001b[0m\u001b[0mloc\u001b[0m\u001b[1;33m[\u001b[0m\u001b[0mtext_by_names\u001b[0m\u001b[1;33m.\u001b[0m\u001b[0mknown_bot\u001b[0m \u001b[1;33m==\u001b[0m \u001b[1;32mTrue\u001b[0m\u001b[1;33m]\u001b[0m\u001b[1;33m.\u001b[0m\u001b[0mjoin\u001b[0m\u001b[1;33m(\u001b[0m\u001b[0mtweet_len_by_bot\u001b[0m\u001b[1;33m,\u001b[0m \u001b[0mhow\u001b[0m\u001b[1;33m=\u001b[0m\u001b[1;34m'inner'\u001b[0m\u001b[1;33m)\u001b[0m\u001b[1;33m\u001b[0m\u001b[0m\n\u001b[0m\u001b[0;32m      6\u001b[0m \u001b[0musr_texts2\u001b[0m\u001b[1;33m=\u001b[0m \u001b[0mtext_by_names\u001b[0m\u001b[1;33m.\u001b[0m\u001b[0mloc\u001b[0m\u001b[1;33m[\u001b[0m\u001b[0mtext_by_names\u001b[0m\u001b[1;33m.\u001b[0m\u001b[0mknown_bot\u001b[0m \u001b[1;33m==\u001b[0m \u001b[1;32mFalse\u001b[0m\u001b[1;33m]\u001b[0m\u001b[1;33m.\u001b[0m\u001b[0mjoin\u001b[0m\u001b[1;33m(\u001b[0m\u001b[0mtweet_len_by_usr\u001b[0m\u001b[1;33m,\u001b[0m \u001b[0mhow\u001b[0m\u001b[1;33m=\u001b[0m\u001b[1;34m'inner'\u001b[0m\u001b[1;33m)\u001b[0m\u001b[1;33m\u001b[0m\u001b[0m\n\u001b[0;32m      7\u001b[0m \u001b[1;33m\u001b[0m\u001b[0m\n",
      "\u001b[1;31mNameError\u001b[0m: name 'text_by_names' is not defined"
     ]
    }
   ],
   "source": [
    "# Segregate these again, and join with their respective tweet lengths.\n",
    "# We want to see how often these tweeters use this particular vocabulary, so we have to rejoin tweet_len_by_xxx to find\n",
    "#   every person's unique text lengths\n",
    "\n",
    "bot_texts2 = text_by_names.loc[text_by_names.known_bot == True].join(tweet_len_by_bot, how='inner')\n",
    "usr_texts2= text_by_names.loc[text_by_names.known_bot == False].join(tweet_len_by_usr, how='inner')\n",
    "\n",
    "tweet_len_by_bot = pd.DataFrame(tweet_len_by_bot)\n",
    "tweet_len_by_usr = pd.DataFrame(tweet_len_by_usr)\n",
    "\n",
    "tweet_len_by_bot.columns = ['mean_tweet_length']\n",
    "tweet_len_by_usr.columns = ['mean_tweet_length']\n",
    "\n",
    "\n",
    "fig, ax = plt.subplots(2,5, figsize= (20,8))\n",
    "ax = ax.ravel()\n",
    "\n",
    "for i, word in enumerate(naughty_words['Words']):\n",
    "    ax[i].hist([bot_texts2[word],\n",
    "                usr_texts2[word]], \n",
    "               label=[\"Bot\",\"Real\"])\n",
    "    ax[i].set_title(word)\n",
    "    ax[i].set_ylabel('# of Times Word Used')\n",
    "    ax[i].set_xlabel(\"# of Accounts\")\n",
    "\n",
    "fig.legend()\n",
    "plt.tight_layout()\n",
    "\n",
    "print(\"\\nThe figures below highlight the total number of times any account would mention any of these \\\n",
    "known botty words. \\\n",
    "What we relly want to know are the frequencies on a scale relative to their respective to the sample\\\n",
    " sizes of the bot-non bot groups, to account for the difference in total sample count across the two groups.\\n\")\n",
    "print(\"This figure is difficult to read; most of the posters never mention these key words. Let's consider another \\\n",
    "approach!\\n\")"
   ]
  },
  {
   "cell_type": "code",
   "execution_count": 15,
   "metadata": {},
   "outputs": [
    {
     "name": "stdout",
     "output_type": "stream",
     "text": [
      "Let's look at their decision to use these words as a ratio to all of the words they typically use. In other words, we shall take a ratio of the key-word count (ie Trump) to mean tweet length for these particular users. We are expecting bots to use these words way more frequently than the average person.\n",
      "\n"
     ]
    },
    {
     "data": {
      "image/png": "[encoded data removed]",
      "text/plain": [
       "<Figure size 1440x576 with 10 Axes>"
      ]
     },
     "metadata": {},
     "output_type": "display_data"
    }
   ],
   "source": [
    "print(\"Let's look at their decision to use these words as a ratio to all of the words they typically use. \\\n",
    "In other words, we shall take a ratio of the key-word count (ie Trump) to mean tweet length for \\\n",
    "these particular users. We are expecting bots to use these words way more frequently than the average person.\\n\")\n",
    "usr_texts2 = usr_texts2.join(tweet_len_by_usr)\n",
    "bot_texts2 = bot_texts2.join(tweet_len_by_bot)\n",
    "\n",
    "for word in naughty_words['Words']:\n",
    "    usr_texts2[word+\"_freq\"] = usr_texts2[word]/usr_texts2['mean_tweet_length']\n",
    "    bot_texts2[word+\"_freq\"] = bot_texts2[word]/bot_texts2['mean_tweet_length']\n",
    "\n",
    "\n",
    "fig, ax = plt.subplots(2,5, figsize= (20,8))\n",
    "ax = ax.ravel()\n",
    "\n",
    "for i, word in enumerate(naughty_words['Words']):\n",
    "    ax[i].boxplot([bot_texts2[word+\"_freq\"],\n",
    "                usr_texts2[word+\"_freq\"]], labels = ['Bot', 'Person'])\n",
    "    ax[i].set_title(word)\n",
    "    ax[i].set_ylabel('Count')\n",
    "    ax[i].set_xlabel(\"Accounts\")\n",
    "plt.tight_layout()\n"
   ]
  },
  {
   "cell_type": "markdown",
   "metadata": {},
   "source": [
    "We're observing that our bots have a very narrow vocabulary range per tweet, compared to our real people counterparts. The real people mention these key words much less frequently than the bots. This looks like a good place to start applying classification methodologies. We'll use begin by using PCA, and chasing it up with logistic regression."
   ]
  },
  {
   "cell_type": "code",
   "execution_count": 34,
   "metadata": {},
   "outputs": [
    {
     "ename": "NameError",
     "evalue": "name 'naughty_words' is not defined",
     "output_type": "error",
     "traceback": [
      "\u001b[1;31m---------------------------------------------------------------------------\u001b[0m",
      "\u001b[1;31mNameError\u001b[0m                                 Traceback (most recent call last)",
      "\u001b[1;32m<ipython-input-34-779266364508>\u001b[0m in \u001b[0;36m<module>\u001b[1;34m()\u001b[0m\n\u001b[0;32m      2\u001b[0m \u001b[1;32mfrom\u001b[0m \u001b[0msklearn\u001b[0m\u001b[1;33m.\u001b[0m\u001b[0mpreprocessing\u001b[0m \u001b[1;32mimport\u001b[0m \u001b[0mMinMaxScaler\u001b[0m\u001b[1;33m\u001b[0m\u001b[0m\n\u001b[0;32m      3\u001b[0m \u001b[1;33m\u001b[0m\u001b[0m\n\u001b[1;32m----> 4\u001b[1;33m \u001b[0mcols\u001b[0m \u001b[1;33m=\u001b[0m \u001b[0mlist\u001b[0m\u001b[1;33m(\u001b[0m\u001b[0mnaughty_words\u001b[0m\u001b[1;33m[\u001b[0m\u001b[1;34m'Words'\u001b[0m\u001b[1;33m]\u001b[0m\u001b[1;33m+\u001b[0m\u001b[1;34m\"_freq\"\u001b[0m\u001b[1;33m)\u001b[0m\u001b[1;33m\u001b[0m\u001b[0m\n\u001b[0m\u001b[0;32m      5\u001b[0m \u001b[0mcols\u001b[0m\u001b[1;33m.\u001b[0m\u001b[0mappend\u001b[0m\u001b[1;33m(\u001b[0m\u001b[1;34m\"known_bot\"\u001b[0m\u001b[1;33m)\u001b[0m\u001b[1;33m\u001b[0m\u001b[0m\n\u001b[0;32m      6\u001b[0m \u001b[0mcols\u001b[0m\u001b[1;33m.\u001b[0m\u001b[0mappend\u001b[0m\u001b[1;33m(\u001b[0m\u001b[1;34m'mean_tweet_length'\u001b[0m\u001b[1;33m)\u001b[0m\u001b[1;33m\u001b[0m\u001b[0m\n",
      "\u001b[1;31mNameError\u001b[0m: name 'naughty_words' is not defined"
     ]
    }
   ],
   "source": [
    "from sklearn.model_selection import train_test_split\n",
    "from sklearn.preprocessing import MinMaxScaler\n",
    "\n",
    "cols = list(naughty_words['Words']+\"_freq\")\n",
    "cols.append(\"known_bot\")\n",
    "cols.append('mean_tweet_length')\n",
    "\n",
    "all_res = bot_texts2.append(usr_texts2)\n",
    "all_res = all_res[cols]\n",
    "\n",
    "X_train, X_test = train_test_split(all_res, test_size=.2, stratify=all_res['known_bot'])\n",
    "\n",
    "y_train = X_train['known_bot']*1\n",
    "y_test = X_test['known_bot']*1\n",
    "\n",
    "cols = list(naughty_words['Words']+\"_freq\")\n",
    "cols.append(\"mean_tweet_length\")\n",
    "\n",
    "X_train = X_train.drop('known_bot', axis=1)\n",
    "X_test = X_test.drop('known_bot', axis=1)\n",
    "\n",
    "scaler = MinMaxScaler().fit(X_train)\n",
    "X_train = pd.DataFrame(scaler.transform(X_train))\n",
    "X_test = pd.DataFrame(scaler.transform(X_test))\n",
    "\n",
    "\n",
    "X_train.columns = cols\n",
    "X_test.columns = cols"
   ]
  },
  {
   "cell_type": "code",
   "execution_count": 33,
   "metadata": {},
   "outputs": [
    {
     "ename": "NameError",
     "evalue": "name 'X_train' is not defined",
     "output_type": "error",
     "traceback": [
      "\u001b[1;31m---------------------------------------------------------------------------\u001b[0m",
      "\u001b[1;31mNameError\u001b[0m                                 Traceback (most recent call last)",
      "\u001b[1;32m<ipython-input-33-b51eed4ff12f>\u001b[0m in \u001b[0;36m<module>\u001b[1;34m()\u001b[0m\n\u001b[0;32m      2\u001b[0m \u001b[1;32mfrom\u001b[0m \u001b[0msklearn\u001b[0m\u001b[1;33m.\u001b[0m\u001b[0mdecomposition\u001b[0m \u001b[1;32mimport\u001b[0m \u001b[0mPCA\u001b[0m\u001b[1;33m\u001b[0m\u001b[0m\n\u001b[0;32m      3\u001b[0m \u001b[1;33m\u001b[0m\u001b[0m\n\u001b[1;32m----> 4\u001b[1;33m \u001b[0mpca_transformer\u001b[0m \u001b[1;33m=\u001b[0m \u001b[0mPCA\u001b[0m\u001b[1;33m(\u001b[0m\u001b[1;36m2\u001b[0m\u001b[1;33m)\u001b[0m\u001b[1;33m.\u001b[0m\u001b[0mfit\u001b[0m\u001b[1;33m(\u001b[0m\u001b[0mX_train\u001b[0m\u001b[1;33m)\u001b[0m\u001b[1;33m\u001b[0m\u001b[0m\n\u001b[0m\u001b[0;32m      5\u001b[0m \u001b[0mcols_pca\u001b[0m \u001b[1;33m=\u001b[0m \u001b[1;33m[\u001b[0m\u001b[1;34m'var1'\u001b[0m\u001b[1;33m,\u001b[0m \u001b[1;34m'var2'\u001b[0m\u001b[1;33m]\u001b[0m\u001b[1;33m\u001b[0m\u001b[0m\n\u001b[0;32m      6\u001b[0m \u001b[1;33m\u001b[0m\u001b[0m\n",
      "\u001b[1;31mNameError\u001b[0m: name 'X_train' is not defined"
     ]
    }
   ],
   "source": [
    "# Let's do some PCA and see if we can distinguish bots from non-bots easily.\n",
    "from sklearn.decomposition import PCA\n",
    "\n",
    "pca_transformer = PCA(2).fit(X_train)\n",
    "cols_pca = ['var1', 'var2']\n",
    "\n",
    "x_train_2d = pd.DataFrame(pca_transformer.transform(X_train))\n",
    "x_test_2d = pd.DataFrame(pca_transformer.transform(X_test))\n",
    "\n",
    "x_train_2d.columns = cols_pca\n",
    "x_test_2d.columns = cols_pca\n",
    "\n",
    "user_types = ['Real', 'Bot']\n",
    "colors = ['b','r']\n",
    "\n",
    "for user_type in y_train.unique():\n",
    "    rows = y_train == user_type\n",
    "    usr_df = x_train_2d.iloc[rows.values,:]\n",
    "    label = user_types[user_type]\n",
    "    plt.scatter(usr_df.var1, usr_df.var2, c = colors[user_type], label=label, alpha = 0.3)\n",
    "    \n",
    "# all plots need labels\n",
    "plt.title(\"PCA Results\")\n",
    "plt.xlabel(\"PCA Dimension 1\")\n",
    "plt.ylabel(\"PCA Dimention 2\")\n",
    "plt.legend();"
   ]
  },
  {
   "cell_type": "code",
   "execution_count": 35,
   "metadata": {},
   "outputs": [
    {
     "name": "stdout",
     "output_type": "stream",
     "text": [
      "\n",
      "But what are we seeing?\n",
      "\n"
     ]
    },
    {
     "ename": "NameError",
     "evalue": "name 'pca_transformer' is not defined",
     "output_type": "error",
     "traceback": [
      "\u001b[1;31m---------------------------------------------------------------------------\u001b[0m",
      "\u001b[1;31mNameError\u001b[0m                                 Traceback (most recent call last)",
      "\u001b[1;32m<ipython-input-35-22860cc3b847>\u001b[0m in \u001b[0;36m<module>\u001b[1;34m()\u001b[0m\n\u001b[0;32m      1\u001b[0m \u001b[0mprint\u001b[0m\u001b[1;33m(\u001b[0m\u001b[1;34m\"\\nBut what are we seeing?\\n\"\u001b[0m\u001b[1;33m)\u001b[0m\u001b[1;33m\u001b[0m\u001b[0m\n\u001b[0;32m      2\u001b[0m \u001b[1;31m# Dump components relations with features:\u001b[0m\u001b[1;33m\u001b[0m\u001b[1;33m\u001b[0m\u001b[0m\n\u001b[1;32m----> 3\u001b[1;33m \u001b[0mpca_df\u001b[0m\u001b[1;33m=\u001b[0m\u001b[0mpd\u001b[0m\u001b[1;33m.\u001b[0m\u001b[0mDataFrame\u001b[0m\u001b[1;33m(\u001b[0m\u001b[0mpca_transformer\u001b[0m\u001b[1;33m.\u001b[0m\u001b[0mcomponents_\u001b[0m\u001b[1;33m,\u001b[0m \u001b[0mcolumns\u001b[0m\u001b[1;33m=\u001b[0m\u001b[0mcols\u001b[0m\u001b[1;33m,\u001b[0m\u001b[0mindex\u001b[0m \u001b[1;33m=\u001b[0m \u001b[1;33m[\u001b[0m\u001b[1;34m'PC-1'\u001b[0m\u001b[1;33m,\u001b[0m\u001b[1;34m'PC-2'\u001b[0m\u001b[1;33m]\u001b[0m\u001b[1;33m)\u001b[0m\u001b[1;33m\u001b[0m\u001b[0m\n\u001b[0m\u001b[0;32m      4\u001b[0m \u001b[0mprint\u001b[0m\u001b[1;33m(\u001b[0m\u001b[1;34m\"\\n-----\"\u001b[0m\u001b[1;33m)\u001b[0m\u001b[1;33m\u001b[0m\u001b[0m\n\u001b[0;32m      5\u001b[0m \u001b[0mprint\u001b[0m\u001b[1;33m(\u001b[0m\u001b[0mpca_df\u001b[0m\u001b[1;33m)\u001b[0m\u001b[1;33m\u001b[0m\u001b[0m\n",
      "\u001b[1;31mNameError\u001b[0m: name 'pca_transformer' is not defined"
     ]
    }
   ],
   "source": [
    "print(\"\\nBut what are we seeing?\\n\")\n",
    "# Dump components relations with features:\n",
    "pca_df=pd.DataFrame(pca_transformer.components_, columns=cols,index = ['PC-1','PC-2'])\n",
    "print(\"\\n-----\")\n",
    "print(pca_df)\n",
    "print(\"\\n-----\")\n",
    "pc1 = pca_df.loc['PC-1'].abs().max()\n",
    "pc2 = pca_df.loc['PC-2'].abs().max()\n",
    "\n",
    "print(\"\\nThe goal here is to look for the largest absolute values for PC-1 and PC-2.\\n\")\n",
    "print(\"Maximum PC-1: {:0.3f}, for the {} variable.\".format(pc1,pca_df.columns[pca_df.loc['PC-1'].abs() == pc1][0]))\n",
    "print(\"Maximum PC-2: {:0.3f}, for the {} variable.\".format(pc2,pca_df.columns[pca_df.loc['PC-2'].abs() == pc2][0]))\n",
    "\n",
    "print(\"\\nIt seems like our original 'tweet word-count' analysis had predictive power! Although PCA doesn't \\\n",
    "appear to be a powerful classifier alone, judging by the plot, it was able to find two potentially \\\n",
    "powerful variables: the tweet word-count and how often the tweet account would use the word 'people'. \\\n",
    "The latter is certainly accurate: if we reexamine the most popular words used by twitter users, bots nearly \\\n",
    "*never* used the word 'people', and yet it was a very common word for real twitter users. \\n\")"
   ]
  },
  {
   "cell_type": "code",
   "execution_count": 19,
   "metadata": {},
   "outputs": [
    {
     "name": "stdout",
     "output_type": "stream",
     "text": [
      "\n",
      "We can do better. Let's do Multiple Logistic Regression.\n",
      "\n",
      "Training set score: 0.875\n",
      "Test set score: 0.839\n"
     ]
    }
   ],
   "source": [
    "print(\"\\nWe can do better. Let's do Multiple Logistic Regression.\\n\")\n",
    "fitted_lr_all = LogisticRegression(C=1000000, solver='newton-cg', max_iter=250).fit(X_train,y_train.values.ravel())\n",
    "print(\"Training set score: {:0.3f}\".format( fitted_lr_all.score(X_train,y_train)))\n",
    "print(\"Test set score: {:0.3f}\".format(fitted_lr_all.score(X_test,y_test)))"
   ]
  },
  {
   "cell_type": "code",
   "execution_count": 20,
   "metadata": {},
   "outputs": [
    {
     "name": "stdout",
     "output_type": "stream",
     "text": [
      "\n",
      "It looks like Multiple Logistic Regression works a little better! Let's visuallize the estimations:\n",
      "\n"
     ]
    },
    {
     "data": {
      "text/plain": [
       "Text(0.5,1,'Testing Data Predictions')"
      ]
     },
     "execution_count": 20,
     "metadata": {},
     "output_type": "execute_result"
    },
    {
     "data": {
      "image/png": "[encoded data removed]",
      "text/plain": [
       "<Figure size 1152x576 with 2 Axes>"
      ]
     },
     "metadata": {},
     "output_type": "display_data"
    }
   ],
   "source": [
    "print(\"\\nIt looks like Multiple Logistic Regression works a little better! Let's visuallize the estimations:\\n\")\n",
    "def visualize_prob(model, x, y, ax):\n",
    "    # Use the model to predict probabilities for\n",
    "    y_pred = model.predict_proba(x)\n",
    "    \n",
    "    # Separate the predictions on the label 1 and label 0 points\n",
    "    ypos = y_pred[y==1]\n",
    "    yneg = y_pred[y==0]\n",
    "    \n",
    "    # Count the number of label 1 and label 0 points\n",
    "    npos = ypos.shape[0]\n",
    "    nneg = yneg.shape[0]\n",
    "    \n",
    "    # Plot the probabilities on a vertical line at x = 0, \n",
    "    # with the positive points in blue and negative points in red\n",
    "    pos_handle = ax.plot(np.zeros((npos,1)), ypos[:,1], 'bo', label = 'Cancer Type 1')\n",
    "    neg_handle = ax.plot(np.zeros((nneg,1)), yneg[:,1], 'ro', label = 'Cancer Type 0')\n",
    "\n",
    "    # Line to mark prob 0.5\n",
    "    ax.axhline(y = 0.5, color = 'k', linestyle = '--')\n",
    "    \n",
    "    # Add y-label and legend, do not display x-axis, set y-axis limit\n",
    "    ax.set_ylabel('Probability of AML class')\n",
    "    ax.legend(loc = 'best')\n",
    "    ax.get_xaxis().set_visible(False)\n",
    "    ax.set_ylim([0,1])\n",
    "    \n",
    "fig, (p1, p2) = plt.subplots(1, 2,figsize=(16,8))\n",
    "\n",
    "visualize_prob(fitted_lr_all, X_train,y_train.values.ravel(), p1)\n",
    "visualize_prob(fitted_lr_all, X_test,y_test.values.ravel(), p2)\n",
    "p1.set_title(\"Training Data Predictions\")\n",
    "p2.set_title(\"Testing Data Predictions\")"
   ]
  },
  {
   "cell_type": "markdown",
   "metadata": {},
   "source": [
    "---\n",
    "We have some great results, but we can do better! Let's employ every possible training modality we have exercised in CS109, and utilize grid_search_cv to find the best possible optimzation parameters.\n",
    "\n",
    "---"
   ]
  },
  {
   "cell_type": "code",
   "execution_count": 21,
   "metadata": {},
   "outputs": [],
   "source": [
    "# Creat array in which to save train and test results\n",
    "# for best in class (bic) modeling\n",
    "# columns:  model_name, train_score, test_score\n",
    "bic_model_results = np.chararray((7,3),itemsize=30)\n",
    "def run_best_in_class_model(model_text, model_class, model_parameters, X_train, y_train, X_test, y_test):\n",
    "\n",
    "    '''\n",
    "    This function uses GridSerachCV to tune parameters\n",
    "    This function then fits a best-in-class model and prints accuracy scores.\n",
    "    and prints accuracy score.\n",
    "    model_text input:  displayed in results\n",
    "    model:  model object that can be fit\n",
    "    X_train: train data matrix\n",
    "    y_train:  train response\n",
    "    X_test:  test data matrix\n",
    "    y_test:  test response\n",
    "    '''\n",
    "    \n",
    "    # Define the GridSearchCV to find the best set of parameters\n",
    "    model = GridSearchCV(model_class, model_parameters, cv=5)\n",
    "\n",
    "    # Fit the model using GridSearchCV on training data\n",
    "    model_fitted = model.fit(X_train,y_train)\n",
    "\n",
    "    # Show which model was selected by GridSearchCV\n",
    "    #print(model_fitted.best_estimator_)\n",
    "\n",
    "    # Create prediction with model selected by GridSearchCV from test data\n",
    "    y_train_hat = model_fitted.predict(X_train)\n",
    "    y_test_hat = model_fitted.predict(X_test)\n",
    "\n",
    "    # Create accuracy score with test data\n",
    "    accuracy_score_train = accuracy_score(y_train,y_train_hat)\n",
    "    accuracy_score_test = accuracy_score(y_test,y_test_hat)\n",
    "\n",
    "    # Show results\n",
    "    print('Base model: {:s}.\\nTraining data accuracy score: {:0.3f}.'.format(model_text,accuracy_score_train))\n",
    "    print('Testing data accuracy score: {:0.3f}.'.format(accuracy_score_test))\n",
    "    print()\n",
    "    \n",
    "    return(accuracy_score_train, accuracy_score_test, model_fitted.best_estimator_)"
   ]
  },
  {
   "cell_type": "code",
   "execution_count": 22,
   "metadata": {},
   "outputs": [],
   "source": [
    "# Create dictionary to save the best in class (bic) model objects for use in meta-model\n",
    "optimized_model = pd.DataFrame(columns=[\"Model\", \"Training_Result\", \"Testing_Result\", \"Estimators\"])"
   ]
  },
  {
   "cell_type": "code",
   "execution_count": 23,
   "metadata": {},
   "outputs": [
    {
     "name": "stdout",
     "output_type": "stream",
     "text": [
      "Base model: KNN.\n",
      "Training data accuracy score: 1.000.\n",
      "Testing data accuracy score: 0.806.\n",
      "\n",
      "Base model: Logistic Regression.\n",
      "Training data accuracy score: 0.867.\n",
      "Testing data accuracy score: 0.806.\n",
      "\n",
      "Base model: LDA.\n",
      "Training data accuracy score: 0.767.\n",
      "Testing data accuracy score: 0.710.\n",
      "\n",
      "Base model: QDA.\n",
      "Training data accuracy score: 0.767.\n",
      "Testing data accuracy score: 0.742.\n",
      "\n",
      "Base model: Decision Tree Classifier.\n",
      "Training data accuracy score: 0.983.\n",
      "Testing data accuracy score: 0.871.\n",
      "\n",
      "Base model: Random Forest Classifier.\n",
      "Training data accuracy score: 0.975.\n",
      "Testing data accuracy score: 0.935.\n",
      "\n",
      "Base model: AdaBoost Classifier.\n",
      "Training data accuracy score: 1.000.\n",
      "Testing data accuracy score: 0.903.\n",
      "\n"
     ]
    },
    {
     "data": {
      "text/html": [
       "<div>\n",
       "<style scoped>\n",
       "    .dataframe tbody tr th:only-of-type {\n",
       "        vertical-align: middle;\n",
       "    }\n",
       "\n",
       "    .dataframe tbody tr th {\n",
       "        vertical-align: top;\n",
       "    }\n",
       "\n",
       "    .dataframe thead th {\n",
       "        text-align: right;\n",
       "    }\n",
       "</style>\n",
       "<table border=\"1\" class=\"dataframe\">\n",
       "  <thead>\n",
       "    <tr style=\"text-align: right;\">\n",
       "      <th></th>\n",
       "      <th>Model</th>\n",
       "      <th>Training_Result</th>\n",
       "      <th>Testing_Result</th>\n",
       "      <th>Estimators</th>\n",
       "    </tr>\n",
       "  </thead>\n",
       "  <tbody>\n",
       "    <tr>\n",
       "      <th>0</th>\n",
       "      <td>KNN</td>\n",
       "      <td>1.000000</td>\n",
       "      <td>0.806452</td>\n",
       "      <td>KNeighborsClassifier(algorithm='auto', leaf_si...</td>\n",
       "    </tr>\n",
       "    <tr>\n",
       "      <th>1</th>\n",
       "      <td>Logistic Regression</td>\n",
       "      <td>0.866667</td>\n",
       "      <td>0.806452</td>\n",
       "      <td>LogisticRegression(C=10000, class_weight=None,...</td>\n",
       "    </tr>\n",
       "    <tr>\n",
       "      <th>2</th>\n",
       "      <td>LDA</td>\n",
       "      <td>0.766667</td>\n",
       "      <td>0.709677</td>\n",
       "      <td>LinearDiscriminantAnalysis(n_components=None, ...</td>\n",
       "    </tr>\n",
       "    <tr>\n",
       "      <th>3</th>\n",
       "      <td>QDA</td>\n",
       "      <td>0.766667</td>\n",
       "      <td>0.741935</td>\n",
       "      <td>QuadraticDiscriminantAnalysis(priors=None, reg...</td>\n",
       "    </tr>\n",
       "    <tr>\n",
       "      <th>4</th>\n",
       "      <td>Decision Tree Classifier</td>\n",
       "      <td>0.983333</td>\n",
       "      <td>0.870968</td>\n",
       "      <td>DecisionTreeClassifier(class_weight=None, crit...</td>\n",
       "    </tr>\n",
       "    <tr>\n",
       "      <th>5</th>\n",
       "      <td>Random Forest Classifier</td>\n",
       "      <td>0.975000</td>\n",
       "      <td>0.935484</td>\n",
       "      <td>(DecisionTreeClassifier(class_weight=None, cri...</td>\n",
       "    </tr>\n",
       "    <tr>\n",
       "      <th>6</th>\n",
       "      <td>AdaBoost Classifier</td>\n",
       "      <td>1.000000</td>\n",
       "      <td>0.903226</td>\n",
       "      <td>((DecisionTreeClassifier(class_weight=None, cr...</td>\n",
       "    </tr>\n",
       "  </tbody>\n",
       "</table>\n",
       "</div>"
      ],
      "text/plain": [
       "                      Model  Training_Result  Testing_Result  \\\n",
       "0                       KNN         1.000000        0.806452   \n",
       "1       Logistic Regression         0.866667        0.806452   \n",
       "2                       LDA         0.766667        0.709677   \n",
       "3                       QDA         0.766667        0.741935   \n",
       "4  Decision Tree Classifier         0.983333        0.870968   \n",
       "5  Random Forest Classifier         0.975000        0.935484   \n",
       "6       AdaBoost Classifier         1.000000        0.903226   \n",
       "\n",
       "                                          Estimators  \n",
       "0  KNeighborsClassifier(algorithm='auto', leaf_si...  \n",
       "1  LogisticRegression(C=10000, class_weight=None,...  \n",
       "2  LinearDiscriminantAnalysis(n_components=None, ...  \n",
       "3  QuadraticDiscriminantAnalysis(priors=None, reg...  \n",
       "4  DecisionTreeClassifier(class_weight=None, crit...  \n",
       "5  (DecisionTreeClassifier(class_weight=None, cri...  \n",
       "6  ((DecisionTreeClassifier(class_weight=None, cr...  "
      ]
     },
     "execution_count": 23,
     "metadata": {},
     "output_type": "execute_result"
    }
   ],
   "source": [
    "# Create best-in-class KNN model with GridSearchCV tuning\n",
    "# Save model_text, training and test scores in array for plotting\n",
    "\n",
    "models = [KNeighborsClassifier(), LogisticRegression(), LinearDiscriminantAnalysis(),\n",
    "          QuadraticDiscriminantAnalysis(), DecisionTreeClassifier(),\n",
    "          RandomForestClassifier(), AdaBoostClassifier()]\n",
    "\n",
    "model_texts =['KNN', 'Logistic Regression', 'LDA', 'QDA',\n",
    "              'Decision Tree Classifier', 'Random Forest Classifier', 'AdaBoost Classifier']\n",
    "\n",
    "KNN_params = [{'n_neighbors': [1,3,5,10,15]}]\n",
    "LOG_params = [{'C':[.0001,.0001,.001,.01,.1,1,10,100,1000,10000]}]\n",
    "LDA_params = [{'solver':['lsqr'],'shrinkage':[0,.2,.4,.6,.8,1]}]\n",
    "QDA_params = [{'reg_param': [.0001, .001, .01, .1, 1, 10, 100, 500, 1000, 10000]}]\n",
    "DTC_params = [{'max_depth': [3,5],'max_features': [1,3,5],'min_samples_split': [2,4,8]}]\n",
    "RFC_params = [{'n_estimators': [15,25,40], 'max_depth': [3,5,7,9],\n",
    "               'max_features': [1,3,5], 'min_samples_split': [2,4,8]}]\n",
    "ABC_params = [{'base_estimator':[LogisticRegression(), DecisionTreeClassifier(), RandomForestClassifier()],\n",
    "               'learning_rate':[.2,.4,.6,.8]}]\n",
    "\n",
    "\n",
    "model_params = [KNN_params, LOG_params, LDA_params, QDA_params, DTC_params, RFC_params, ABC_params]\n",
    "\n",
    "for i, model in enumerate(models):\n",
    "    bic_model_res = run_best_in_class_model(model_texts[i], model, model_params[i], \\\n",
    "                                        X_train, y_train, X_test, y_test)\n",
    "    \n",
    "    optimized_model = optimized_model.append({\"Model\":model_texts[i],\n",
    "                                              \"Training_Result\":bic_model_res[0],\n",
    "                                              \"Testing_Result\":bic_model_res[1],\n",
    "                                              \"Estimators\":bic_model_res[2]}, ignore_index=True)\n",
    "optimized_model"
   ]
  },
  {
   "cell_type": "markdown",
   "metadata": {},
   "source": [
    "---\n",
    "These results achieve a maximum of 96% and 94% on the testing results (with AdaBoost and Random Forest, respectively), and a minimum of 74% and 67% (QDA, LDA respectively), which are still better results than flipping coins.\n",
    "\n",
    "Unfortunately we cannot look at the Random Forest Classifier; we can only look at one tree. We'll take a look at the Random Forest parameters, but we'll also plot the decision tree classifier results too (which achieved a 90% accuracy with a max_depth of 9, but to limit the size of the picture I've set the max allowable depth to 5).\n",
    "\n",
    "---"
   ]
  },
  {
   "cell_type": "code",
   "execution_count": 24,
   "metadata": {},
   "outputs": [
    {
     "name": "stdout",
     "output_type": "stream",
     "text": [
      "DecisionTreeClassifier(class_weight=None, criterion='gini', max_depth=5,\n",
      "            max_features=5, max_leaf_nodes=None, min_impurity_decrease=0.0,\n",
      "            min_impurity_split=None, min_samples_leaf=1,\n",
      "            min_samples_split=4, min_weight_fraction_leaf=0.0,\n",
      "            presort=False, random_state=None, splitter='best')\n"
     ]
    },
    {
     "data": {
      "image/svg+xml": [
       "<?xml version=\"1.0\" encoding=\"UTF-8\" standalone=\"no\"?>\n",
       "<!DOCTYPE svg PUBLIC \"-//W3C//DTD SVG 1.1//EN\"\n",
       " \"http://www.w3.org/Graphics/SVG/1.1/DTD/svg11.dtd\">\n",
       "<!-- Generated by graphviz version 2.40.1 (20161225.0304)\n",
       " -->\n",
       "<!-- Title: Tree Pages: 1 -->\n",
       "<svg width=\"1241pt\" height=\"642pt\"\n",
       " viewBox=\"0.00 0.00 1241.34 642.00\" xmlns=\"http://www.w3.org/2000/svg\" xmlns:xlink=\"http://www.w3.org/1999/xlink\">\n",
       "<g id=\"graph0\" class=\"graph\" transform=\"scale(1 1) rotate(0) translate(4 638)\">\n",
       "<title>Tree</title>\n",
       "<polygon fill=\"#ffffff\" stroke=\"transparent\" points=\"-4,4 -4,-638 1237.3408,-638 1237.3408,4 -4,4\"/>\n",
       "<!-- 0 -->\n",
       "<g id=\"node1\" class=\"node\">\n",
       "<title>0</title>\n",
       "<path fill=\"#e58139\" fill-opacity=\"0.235294\" stroke=\"#000000\" d=\"M771.4676,-634C771.4676,-634 657.8732,-634 657.8732,-634 651.8732,-634 645.8732,-628 645.8732,-622 645.8732,-622 645.8732,-568 645.8732,-568 645.8732,-562 651.8732,-556 657.8732,-556 657.8732,-556 771.4676,-556 771.4676,-556 777.4676,-556 783.4676,-562 783.4676,-568 783.4676,-568 783.4676,-622 783.4676,-622 783.4676,-628 777.4676,-634 771.4676,-634\"/>\n",
       "<text text-anchor=\"start\" x=\"654.022\" y=\"-618.8\" font-family=\"Helvetica,sans-Serif\" font-size=\"14.00\" fill=\"#000000\">Hillary_freq ≤ 0.002</text>\n",
       "<text text-anchor=\"start\" x=\"678.2793\" y=\"-604.8\" font-family=\"Helvetica,sans-Serif\" font-size=\"14.00\" fill=\"#000000\">gini = 0.491</text>\n",
       "<text text-anchor=\"start\" x=\"668.9482\" y=\"-590.8\" font-family=\"Helvetica,sans-Serif\" font-size=\"14.00\" fill=\"#000000\">samples = 120</text>\n",
       "<text text-anchor=\"start\" x=\"666.6069\" y=\"-576.8\" font-family=\"Helvetica,sans-Serif\" font-size=\"14.00\" fill=\"#000000\">value = [68, 52]</text>\n",
       "<text text-anchor=\"start\" x=\"654.9448\" y=\"-562.8\" font-family=\"Helvetica,sans-Serif\" font-size=\"14.00\" fill=\"#000000\">class = Trump_freq</text>\n",
       "</g>\n",
       "<!-- 1 -->\n",
       "<g id=\"node2\" class=\"node\">\n",
       "<title>1</title>\n",
       "<path fill=\"#e58139\" fill-opacity=\"0.752941\" stroke=\"#000000\" d=\"M694.1194,-520C694.1194,-520 577.2215,-520 577.2215,-520 571.2215,-520 565.2215,-514 565.2215,-508 565.2215,-508 565.2215,-454 565.2215,-454 565.2215,-448 571.2215,-442 577.2215,-442 577.2215,-442 694.1194,-442 694.1194,-442 700.1194,-442 706.1194,-448 706.1194,-454 706.1194,-454 706.1194,-508 706.1194,-508 706.1194,-514 700.1194,-520 694.1194,-520\"/>\n",
       "<text text-anchor=\"start\" x=\"573.4463\" y=\"-504.8\" font-family=\"Helvetica,sans-Serif\" font-size=\"14.00\" fill=\"#000000\">people_freq ≤ 0.003</text>\n",
       "<text text-anchor=\"start\" x=\"599.2793\" y=\"-490.8\" font-family=\"Helvetica,sans-Serif\" font-size=\"14.00\" fill=\"#000000\">gini = 0.317</text>\n",
       "<text text-anchor=\"start\" x=\"593.8413\" y=\"-476.8\" font-family=\"Helvetica,sans-Serif\" font-size=\"14.00\" fill=\"#000000\">samples = 76</text>\n",
       "<text text-anchor=\"start\" x=\"587.6069\" y=\"-462.8\" font-family=\"Helvetica,sans-Serif\" font-size=\"14.00\" fill=\"#000000\">value = [61, 15]</text>\n",
       "<text text-anchor=\"start\" x=\"575.9448\" y=\"-448.8\" font-family=\"Helvetica,sans-Serif\" font-size=\"14.00\" fill=\"#000000\">class = Trump_freq</text>\n",
       "</g>\n",
       "<!-- 0&#45;&gt;1 -->\n",
       "<g id=\"edge1\" class=\"edge\">\n",
       "<title>0&#45;&gt;1</title>\n",
       "<path fill=\"none\" stroke=\"#000000\" d=\"M687.4831,-555.7677C681.4626,-547.0798 675.018,-537.7801 668.7908,-528.794\"/>\n",
       "<polygon fill=\"#000000\" stroke=\"#000000\" points=\"671.4805,-526.5304 662.9078,-520.3046 665.727,-530.5176 671.4805,-526.5304\"/>\n",
       "<text text-anchor=\"middle\" x=\"658.4469\" y=\"-540.7034\" font-family=\"Helvetica,sans-Serif\" font-size=\"14.00\" fill=\"#000000\">True</text>\n",
       "</g>\n",
       "<!-- 12 -->\n",
       "<g id=\"node13\" class=\"node\">\n",
       "<title>12</title>\n",
       "<path fill=\"#399de5\" fill-opacity=\"0.811765\" stroke=\"#000000\" d=\"M851.5116,-520C851.5116,-520 735.8292,-520 735.8292,-520 729.8292,-520 723.8292,-514 723.8292,-508 723.8292,-508 723.8292,-454 723.8292,-454 723.8292,-448 729.8292,-442 735.8292,-442 735.8292,-442 851.5116,-442 851.5116,-442 857.5116,-442 863.5116,-448 863.5116,-454 863.5116,-454 863.5116,-508 863.5116,-508 863.5116,-514 857.5116,-520 851.5116,-520\"/>\n",
       "<text text-anchor=\"start\" x=\"737.291\" y=\"-504.8\" font-family=\"Helvetica,sans-Serif\" font-size=\"14.00\" fill=\"#000000\">https_freq ≤ 0.004</text>\n",
       "<text text-anchor=\"start\" x=\"757.2793\" y=\"-490.8\" font-family=\"Helvetica,sans-Serif\" font-size=\"14.00\" fill=\"#000000\">gini = 0.268</text>\n",
       "<text text-anchor=\"start\" x=\"751.8413\" y=\"-476.8\" font-family=\"Helvetica,sans-Serif\" font-size=\"14.00\" fill=\"#000000\">samples = 44</text>\n",
       "<text text-anchor=\"start\" x=\"749.5\" y=\"-462.8\" font-family=\"Helvetica,sans-Serif\" font-size=\"14.00\" fill=\"#000000\">value = [7, 37]</text>\n",
       "<text text-anchor=\"start\" x=\"732\" y=\"-448.8\" font-family=\"Helvetica,sans-Serif\" font-size=\"14.00\" fill=\"#000000\">class = Clinton_freq</text>\n",
       "</g>\n",
       "<!-- 0&#45;&gt;12 -->\n",
       "<g id=\"edge12\" class=\"edge\">\n",
       "<title>0&#45;&gt;12</title>\n",
       "<path fill=\"none\" stroke=\"#000000\" d=\"M741.8577,-555.7677C747.8782,-547.0798 754.3228,-537.7801 760.55,-528.794\"/>\n",
       "<polygon fill=\"#000000\" stroke=\"#000000\" points=\"763.6139,-530.5176 766.433,-520.3046 757.8603,-526.5304 763.6139,-530.5176\"/>\n",
       "<text text-anchor=\"middle\" x=\"770.8939\" y=\"-540.7034\" font-family=\"Helvetica,sans-Serif\" font-size=\"14.00\" fill=\"#000000\">False</text>\n",
       "</g>\n",
       "<!-- 2 -->\n",
       "<g id=\"node3\" class=\"node\">\n",
       "<title>2</title>\n",
       "<path fill=\"transparent\" stroke=\"#000000\" d=\"M538.8669,-406C538.8669,-406 374.4739,-406 374.4739,-406 368.4739,-406 362.4739,-400 362.4739,-394 362.4739,-394 362.4739,-340 362.4739,-340 362.4739,-334 368.4739,-328 374.4739,-328 374.4739,-328 538.8669,-328 538.8669,-328 544.8669,-328 550.8669,-334 550.8669,-340 550.8669,-340 550.8669,-394 550.8669,-394 550.8669,-400 544.8669,-406 538.8669,-406\"/>\n",
       "<text text-anchor=\"start\" x=\"370.3223\" y=\"-390.8\" font-family=\"Helvetica,sans-Serif\" font-size=\"14.00\" fill=\"#000000\">mean_tweet_length ≤ 0.596</text>\n",
       "<text text-anchor=\"start\" x=\"428.0654\" y=\"-376.8\" font-family=\"Helvetica,sans-Serif\" font-size=\"14.00\" fill=\"#000000\">gini = 0.5</text>\n",
       "<text text-anchor=\"start\" x=\"414.8413\" y=\"-362.8\" font-family=\"Helvetica,sans-Serif\" font-size=\"14.00\" fill=\"#000000\">samples = 30</text>\n",
       "<text text-anchor=\"start\" x=\"408.6069\" y=\"-348.8\" font-family=\"Helvetica,sans-Serif\" font-size=\"14.00\" fill=\"#000000\">value = [15, 15]</text>\n",
       "<text text-anchor=\"start\" x=\"396.9448\" y=\"-334.8\" font-family=\"Helvetica,sans-Serif\" font-size=\"14.00\" fill=\"#000000\">class = Trump_freq</text>\n",
       "</g>\n",
       "<!-- 1&#45;&gt;2 -->\n",
       "<g id=\"edge2\" class=\"edge\">\n",
       "<title>1&#45;&gt;2</title>\n",
       "<path fill=\"none\" stroke=\"#000000\" d=\"M574.3192,-441.9272C558.9487,-432.1381 542.345,-421.5637 526.5922,-411.5312\"/>\n",
       "<polygon fill=\"#000000\" stroke=\"#000000\" points=\"528.2563,-408.4415 517.9415,-406.0218 524.496,-414.3458 528.2563,-408.4415\"/>\n",
       "</g>\n",
       "<!-- 11 -->\n",
       "<g id=\"node12\" class=\"node\">\n",
       "<title>11</title>\n",
       "<path fill=\"#e58139\" stroke=\"#000000\" d=\"M692.6223,-399C692.6223,-399 580.7185,-399 580.7185,-399 574.7185,-399 568.7185,-393 568.7185,-387 568.7185,-387 568.7185,-347 568.7185,-347 568.7185,-341 574.7185,-335 580.7185,-335 580.7185,-335 692.6223,-335 692.6223,-335 698.6223,-335 704.6223,-341 704.6223,-347 704.6223,-347 704.6223,-387 704.6223,-387 704.6223,-393 698.6223,-399 692.6223,-399\"/>\n",
       "<text text-anchor=\"start\" x=\"608.0654\" y=\"-383.8\" font-family=\"Helvetica,sans-Serif\" font-size=\"14.00\" fill=\"#000000\">gini = 0.0</text>\n",
       "<text text-anchor=\"start\" x=\"594.8413\" y=\"-369.8\" font-family=\"Helvetica,sans-Serif\" font-size=\"14.00\" fill=\"#000000\">samples = 46</text>\n",
       "<text text-anchor=\"start\" x=\"592.5\" y=\"-355.8\" font-family=\"Helvetica,sans-Serif\" font-size=\"14.00\" fill=\"#000000\">value = [46, 0]</text>\n",
       "<text text-anchor=\"start\" x=\"576.9448\" y=\"-341.8\" font-family=\"Helvetica,sans-Serif\" font-size=\"14.00\" fill=\"#000000\">class = Trump_freq</text>\n",
       "</g>\n",
       "<!-- 1&#45;&gt;11 -->\n",
       "<g id=\"edge11\" class=\"edge\">\n",
       "<title>1&#45;&gt;11</title>\n",
       "<path fill=\"none\" stroke=\"#000000\" d=\"M636.0146,-441.7677C636.1061,-431.3338 636.2053,-420.0174 636.2983,-409.4215\"/>\n",
       "<polygon fill=\"#000000\" stroke=\"#000000\" points=\"639.8007,-409.1555 636.3886,-399.1252 632.8009,-409.0941 639.8007,-409.1555\"/>\n",
       "</g>\n",
       "<!-- 3 -->\n",
       "<g id=\"node4\" class=\"node\">\n",
       "<title>3</title>\n",
       "<path fill=\"#e58139\" fill-opacity=\"0.400000\" stroke=\"#000000\" d=\"M435.6223,-292C435.6223,-292 323.7185,-292 323.7185,-292 317.7185,-292 311.7185,-286 311.7185,-280 311.7185,-280 311.7185,-226 311.7185,-226 311.7185,-220 317.7185,-214 323.7185,-214 323.7185,-214 435.6223,-214 435.6223,-214 441.6223,-214 447.6223,-220 447.6223,-226 447.6223,-226 447.6223,-280 447.6223,-280 447.6223,-286 441.6223,-292 435.6223,-292\"/>\n",
       "<text text-anchor=\"start\" x=\"327.9634\" y=\"-276.8\" font-family=\"Helvetica,sans-Serif\" font-size=\"14.00\" fill=\"#000000\">like_freq ≤ 0.007</text>\n",
       "<text text-anchor=\"start\" x=\"343.2793\" y=\"-262.8\" font-family=\"Helvetica,sans-Serif\" font-size=\"14.00\" fill=\"#000000\">gini = 0.469</text>\n",
       "<text text-anchor=\"start\" x=\"337.8413\" y=\"-248.8\" font-family=\"Helvetica,sans-Serif\" font-size=\"14.00\" fill=\"#000000\">samples = 24</text>\n",
       "<text text-anchor=\"start\" x=\"335.5\" y=\"-234.8\" font-family=\"Helvetica,sans-Serif\" font-size=\"14.00\" fill=\"#000000\">value = [15, 9]</text>\n",
       "<text text-anchor=\"start\" x=\"319.9448\" y=\"-220.8\" font-family=\"Helvetica,sans-Serif\" font-size=\"14.00\" fill=\"#000000\">class = Trump_freq</text>\n",
       "</g>\n",
       "<!-- 2&#45;&gt;3 -->\n",
       "<g id=\"edge3\" class=\"edge\">\n",
       "<title>2&#45;&gt;3</title>\n",
       "<path fill=\"none\" stroke=\"#000000\" d=\"M430.1714,-327.7677C424.3033,-319.0798 418.0219,-309.7801 411.9523,-300.794\"/>\n",
       "<polygon fill=\"#000000\" stroke=\"#000000\" points=\"414.7159,-298.6324 406.2183,-292.3046 408.9152,-302.5505 414.7159,-298.6324\"/>\n",
       "</g>\n",
       "<!-- 10 -->\n",
       "<g id=\"node11\" class=\"node\">\n",
       "<title>10</title>\n",
       "<path fill=\"#399de5\" stroke=\"#000000\" d=\"M592.5116,-285C592.5116,-285 476.8292,-285 476.8292,-285 470.8292,-285 464.8292,-279 464.8292,-273 464.8292,-273 464.8292,-233 464.8292,-233 464.8292,-227 470.8292,-221 476.8292,-221 476.8292,-221 592.5116,-221 592.5116,-221 598.5116,-221 604.5116,-227 604.5116,-233 604.5116,-233 604.5116,-273 604.5116,-273 604.5116,-279 598.5116,-285 592.5116,-285\"/>\n",
       "<text text-anchor=\"start\" x=\"506.0654\" y=\"-269.8\" font-family=\"Helvetica,sans-Serif\" font-size=\"14.00\" fill=\"#000000\">gini = 0.0</text>\n",
       "<text text-anchor=\"start\" x=\"496.7344\" y=\"-255.8\" font-family=\"Helvetica,sans-Serif\" font-size=\"14.00\" fill=\"#000000\">samples = 6</text>\n",
       "<text text-anchor=\"start\" x=\"494.3931\" y=\"-241.8\" font-family=\"Helvetica,sans-Serif\" font-size=\"14.00\" fill=\"#000000\">value = [0, 6]</text>\n",
       "<text text-anchor=\"start\" x=\"473\" y=\"-227.8\" font-family=\"Helvetica,sans-Serif\" font-size=\"14.00\" fill=\"#000000\">class = Clinton_freq</text>\n",
       "</g>\n",
       "<!-- 2&#45;&gt;10 -->\n",
       "<g id=\"edge10\" class=\"edge\">\n",
       "<title>2&#45;&gt;10</title>\n",
       "<path fill=\"none\" stroke=\"#000000\" d=\"M483.5136,-327.7677C491.0987,-316.6817 499.3655,-304.5994 506.9984,-293.4436\"/>\n",
       "<polygon fill=\"#000000\" stroke=\"#000000\" points=\"509.9317,-295.3547 512.69,-285.1252 504.1545,-291.4019 509.9317,-295.3547\"/>\n",
       "</g>\n",
       "<!-- 4 -->\n",
       "<g id=\"node5\" class=\"node\">\n",
       "<title>4</title>\n",
       "<path fill=\"#399de5\" fill-opacity=\"0.498039\" stroke=\"#000000\" d=\"M274.5116,-178C274.5116,-178 158.8292,-178 158.8292,-178 152.8292,-178 146.8292,-172 146.8292,-166 146.8292,-166 146.8292,-112 146.8292,-112 146.8292,-106 152.8292,-100 158.8292,-100 158.8292,-100 274.5116,-100 274.5116,-100 280.5116,-100 286.5116,-106 286.5116,-112 286.5116,-112 286.5116,-166 286.5116,-166 286.5116,-172 280.5116,-178 274.5116,-178\"/>\n",
       "<text text-anchor=\"start\" x=\"166.5186\" y=\"-162.8\" font-family=\"Helvetica,sans-Serif\" font-size=\"14.00\" fill=\"#000000\">via_freq ≤ 0.004</text>\n",
       "<text text-anchor=\"start\" x=\"180.2793\" y=\"-148.8\" font-family=\"Helvetica,sans-Serif\" font-size=\"14.00\" fill=\"#000000\">gini = 0.444</text>\n",
       "<text text-anchor=\"start\" x=\"174.8413\" y=\"-134.8\" font-family=\"Helvetica,sans-Serif\" font-size=\"14.00\" fill=\"#000000\">samples = 12</text>\n",
       "<text text-anchor=\"start\" x=\"176.3931\" y=\"-120.8\" font-family=\"Helvetica,sans-Serif\" font-size=\"14.00\" fill=\"#000000\">value = [4, 8]</text>\n",
       "<text text-anchor=\"start\" x=\"155\" y=\"-106.8\" font-family=\"Helvetica,sans-Serif\" font-size=\"14.00\" fill=\"#000000\">class = Clinton_freq</text>\n",
       "</g>\n",
       "<!-- 3&#45;&gt;4 -->\n",
       "<g id=\"edge4\" class=\"edge\">\n",
       "<title>3&#45;&gt;4</title>\n",
       "<path fill=\"none\" stroke=\"#000000\" d=\"M323.5751,-213.7677C309.7954,-204.1303 294.9391,-193.7401 280.8125,-183.8601\"/>\n",
       "<polygon fill=\"#000000\" stroke=\"#000000\" points=\"282.7936,-180.9746 272.5929,-178.1115 278.7817,-186.7109 282.7936,-180.9746\"/>\n",
       "</g>\n",
       "<!-- 7 -->\n",
       "<g id=\"node8\" class=\"node\">\n",
       "<title>7</title>\n",
       "<path fill=\"#e58139\" fill-opacity=\"0.909804\" stroke=\"#000000\" d=\"M480.8669,-178C480.8669,-178 316.4739,-178 316.4739,-178 310.4739,-178 304.4739,-172 304.4739,-166 304.4739,-166 304.4739,-112 304.4739,-112 304.4739,-106 310.4739,-100 316.4739,-100 316.4739,-100 480.8669,-100 480.8669,-100 486.8669,-100 492.8669,-106 492.8669,-112 492.8669,-112 492.8669,-166 492.8669,-166 492.8669,-172 486.8669,-178 480.8669,-178\"/>\n",
       "<text text-anchor=\"start\" x=\"312.3223\" y=\"-162.8\" font-family=\"Helvetica,sans-Serif\" font-size=\"14.00\" fill=\"#000000\">mean_tweet_length ≤ 0.451</text>\n",
       "<text text-anchor=\"start\" x=\"362.2793\" y=\"-148.8\" font-family=\"Helvetica,sans-Serif\" font-size=\"14.00\" fill=\"#000000\">gini = 0.153</text>\n",
       "<text text-anchor=\"start\" x=\"356.8413\" y=\"-134.8\" font-family=\"Helvetica,sans-Serif\" font-size=\"14.00\" fill=\"#000000\">samples = 12</text>\n",
       "<text text-anchor=\"start\" x=\"355.0161\" y=\"-120.8\" font-family=\"Helvetica,sans-Serif\" font-size=\"14.00\" fill=\"#000000\">value = [11, 1]</text>\n",
       "<text text-anchor=\"start\" x=\"338.9448\" y=\"-106.8\" font-family=\"Helvetica,sans-Serif\" font-size=\"14.00\" fill=\"#000000\">class = Trump_freq</text>\n",
       "</g>\n",
       "<!-- 3&#45;&gt;7 -->\n",
       "<g id=\"edge7\" class=\"edge\">\n",
       "<title>3&#45;&gt;7</title>\n",
       "<path fill=\"none\" stroke=\"#000000\" d=\"M386.2091,-213.7677C387.5825,-205.5277 389.0475,-196.7372 390.4728,-188.1859\"/>\n",
       "<polygon fill=\"#000000\" stroke=\"#000000\" points=\"393.9279,-188.744 392.1196,-178.3046 387.0232,-187.5932 393.9279,-188.744\"/>\n",
       "</g>\n",
       "<!-- 5 -->\n",
       "<g id=\"node6\" class=\"node\">\n",
       "<title>5</title>\n",
       "<path fill=\"#399de5\" fill-opacity=\"0.858824\" stroke=\"#000000\" d=\"M127.5116,-64C127.5116,-64 11.8292,-64 11.8292,-64 5.8292,-64 -.1708,-58 -.1708,-52 -.1708,-52 -.1708,-12 -.1708,-12 -.1708,-6 5.8292,0 11.8292,0 11.8292,0 127.5116,0 127.5116,0 133.5116,0 139.5116,-6 139.5116,-12 139.5116,-12 139.5116,-52 139.5116,-52 139.5116,-58 133.5116,-64 127.5116,-64\"/>\n",
       "<text text-anchor=\"start\" x=\"33.2793\" y=\"-48.8\" font-family=\"Helvetica,sans-Serif\" font-size=\"14.00\" fill=\"#000000\">gini = 0.219</text>\n",
       "<text text-anchor=\"start\" x=\"31.7344\" y=\"-34.8\" font-family=\"Helvetica,sans-Serif\" font-size=\"14.00\" fill=\"#000000\">samples = 8</text>\n",
       "<text text-anchor=\"start\" x=\"29.3931\" y=\"-20.8\" font-family=\"Helvetica,sans-Serif\" font-size=\"14.00\" fill=\"#000000\">value = [1, 7]</text>\n",
       "<text text-anchor=\"start\" x=\"8\" y=\"-6.8\" font-family=\"Helvetica,sans-Serif\" font-size=\"14.00\" fill=\"#000000\">class = Clinton_freq</text>\n",
       "</g>\n",
       "<!-- 4&#45;&gt;5 -->\n",
       "<g id=\"edge5\" class=\"edge\">\n",
       "<title>4&#45;&gt;5</title>\n",
       "<path fill=\"none\" stroke=\"#000000\" d=\"M162.7677,-99.7647C149.4677,-90.0838 135.2441,-79.7305 122.0191,-70.1042\"/>\n",
       "<polygon fill=\"#000000\" stroke=\"#000000\" points=\"124.0757,-67.2722 113.931,-64.2169 119.9562,-72.9317 124.0757,-67.2722\"/>\n",
       "</g>\n",
       "<!-- 6 -->\n",
       "<g id=\"node7\" class=\"node\">\n",
       "<title>6</title>\n",
       "<path fill=\"#e58139\" fill-opacity=\"0.666667\" stroke=\"#000000\" d=\"M280.6223,-64C280.6223,-64 168.7185,-64 168.7185,-64 162.7185,-64 156.7185,-58 156.7185,-52 156.7185,-52 156.7185,-12 156.7185,-12 156.7185,-6 162.7185,0 168.7185,0 168.7185,0 280.6223,0 280.6223,0 286.6223,0 292.6223,-6 292.6223,-12 292.6223,-12 292.6223,-52 292.6223,-52 292.6223,-58 286.6223,-64 280.6223,-64\"/>\n",
       "<text text-anchor=\"start\" x=\"188.2793\" y=\"-48.8\" font-family=\"Helvetica,sans-Serif\" font-size=\"14.00\" fill=\"#000000\">gini = 0.375</text>\n",
       "<text text-anchor=\"start\" x=\"186.7344\" y=\"-34.8\" font-family=\"Helvetica,sans-Serif\" font-size=\"14.00\" fill=\"#000000\">samples = 4</text>\n",
       "<text text-anchor=\"start\" x=\"184.3931\" y=\"-20.8\" font-family=\"Helvetica,sans-Serif\" font-size=\"14.00\" fill=\"#000000\">value = [3, 1]</text>\n",
       "<text text-anchor=\"start\" x=\"164.9448\" y=\"-6.8\" font-family=\"Helvetica,sans-Serif\" font-size=\"14.00\" fill=\"#000000\">class = Trump_freq</text>\n",
       "</g>\n",
       "<!-- 4&#45;&gt;6 -->\n",
       "<g id=\"edge6\" class=\"edge\">\n",
       "<title>4&#45;&gt;6</title>\n",
       "<path fill=\"none\" stroke=\"#000000\" d=\"M219.6039,-99.7647C220.2253,-91.4537 220.8837,-82.6472 221.513,-74.2305\"/>\n",
       "<polygon fill=\"#000000\" stroke=\"#000000\" points=\"225.0063,-74.45 222.2617,-64.2169 218.0257,-73.9281 225.0063,-74.45\"/>\n",
       "</g>\n",
       "<!-- 8 -->\n",
       "<g id=\"node9\" class=\"node\">\n",
       "<title>8</title>\n",
       "<path fill=\"#e58139\" fill-opacity=\"0.800000\" stroke=\"#000000\" d=\"M447.6223,-64C447.6223,-64 335.7185,-64 335.7185,-64 329.7185,-64 323.7185,-58 323.7185,-52 323.7185,-52 323.7185,-12 323.7185,-12 323.7185,-6 329.7185,0 335.7185,0 335.7185,0 447.6223,0 447.6223,0 453.6223,0 459.6223,-6 459.6223,-12 459.6223,-12 459.6223,-52 459.6223,-52 459.6223,-58 453.6223,-64 447.6223,-64\"/>\n",
       "<text text-anchor=\"start\" x=\"355.2793\" y=\"-48.8\" font-family=\"Helvetica,sans-Serif\" font-size=\"14.00\" fill=\"#000000\">gini = 0.278</text>\n",
       "<text text-anchor=\"start\" x=\"353.7344\" y=\"-34.8\" font-family=\"Helvetica,sans-Serif\" font-size=\"14.00\" fill=\"#000000\">samples = 6</text>\n",
       "<text text-anchor=\"start\" x=\"351.3931\" y=\"-20.8\" font-family=\"Helvetica,sans-Serif\" font-size=\"14.00\" fill=\"#000000\">value = [5, 1]</text>\n",
       "<text text-anchor=\"start\" x=\"331.9448\" y=\"-6.8\" font-family=\"Helvetica,sans-Serif\" font-size=\"14.00\" fill=\"#000000\">class = Trump_freq</text>\n",
       "</g>\n",
       "<!-- 7&#45;&gt;8 -->\n",
       "<g id=\"edge8\" class=\"edge\">\n",
       "<title>7&#45;&gt;8</title>\n",
       "<path fill=\"none\" stroke=\"#000000\" d=\"M396.1036,-99.7647C395.5599,-91.4537 394.9838,-82.6472 394.4332,-74.2305\"/>\n",
       "<polygon fill=\"#000000\" stroke=\"#000000\" points=\"397.9235,-73.967 393.7781,-64.2169 390.9384,-74.4241 397.9235,-73.967\"/>\n",
       "</g>\n",
       "<!-- 9 -->\n",
       "<g id=\"node10\" class=\"node\">\n",
       "<title>9</title>\n",
       "<path fill=\"#e58139\" stroke=\"#000000\" d=\"M600.6223,-64C600.6223,-64 488.7185,-64 488.7185,-64 482.7185,-64 476.7185,-58 476.7185,-52 476.7185,-52 476.7185,-12 476.7185,-12 476.7185,-6 482.7185,0 488.7185,0 488.7185,0 600.6223,0 600.6223,0 606.6223,0 612.6223,-6 612.6223,-12 612.6223,-12 612.6223,-52 612.6223,-52 612.6223,-58 606.6223,-64 600.6223,-64\"/>\n",
       "<text text-anchor=\"start\" x=\"516.0654\" y=\"-48.8\" font-family=\"Helvetica,sans-Serif\" font-size=\"14.00\" fill=\"#000000\">gini = 0.0</text>\n",
       "<text text-anchor=\"start\" x=\"506.7344\" y=\"-34.8\" font-family=\"Helvetica,sans-Serif\" font-size=\"14.00\" fill=\"#000000\">samples = 6</text>\n",
       "<text text-anchor=\"start\" x=\"504.3931\" y=\"-20.8\" font-family=\"Helvetica,sans-Serif\" font-size=\"14.00\" fill=\"#000000\">value = [6, 0]</text>\n",
       "<text text-anchor=\"start\" x=\"484.9448\" y=\"-6.8\" font-family=\"Helvetica,sans-Serif\" font-size=\"14.00\" fill=\"#000000\">class = Trump_freq</text>\n",
       "</g>\n",
       "<!-- 7&#45;&gt;9 -->\n",
       "<g id=\"edge9\" class=\"edge\">\n",
       "<title>7&#45;&gt;9</title>\n",
       "<path fill=\"none\" stroke=\"#000000\" d=\"M452.2064,-99.7647C465.2913,-90.1751 479.2763,-79.9258 492.3058,-70.3768\"/>\n",
       "<polygon fill=\"#000000\" stroke=\"#000000\" points=\"494.7141,-72.9512 500.7109,-64.2169 490.5762,-67.3051 494.7141,-72.9512\"/>\n",
       "</g>\n",
       "<!-- 13 -->\n",
       "<g id=\"node14\" class=\"node\">\n",
       "<title>13</title>\n",
       "<path fill=\"#399de5\" fill-opacity=\"0.533333\" stroke=\"#000000\" d=\"M852.6567,-406C852.6567,-406 734.6841,-406 734.6841,-406 728.6841,-406 722.6841,-400 722.6841,-394 722.6841,-394 722.6841,-340 722.6841,-340 722.6841,-334 728.6841,-328 734.6841,-328 734.6841,-328 852.6567,-328 852.6567,-328 858.6567,-328 864.6567,-334 864.6567,-340 864.6567,-340 864.6567,-394 864.6567,-394 864.6567,-400 858.6567,-406 852.6567,-406\"/>\n",
       "<text text-anchor=\"start\" x=\"730.6772\" y=\"-390.8\" font-family=\"Helvetica,sans-Serif\" font-size=\"14.00\" fill=\"#000000\">Clinton_freq ≤ 0.001</text>\n",
       "<text text-anchor=\"start\" x=\"757.2793\" y=\"-376.8\" font-family=\"Helvetica,sans-Serif\" font-size=\"14.00\" fill=\"#000000\">gini = 0.434</text>\n",
       "<text text-anchor=\"start\" x=\"751.8413\" y=\"-362.8\" font-family=\"Helvetica,sans-Serif\" font-size=\"14.00\" fill=\"#000000\">samples = 22</text>\n",
       "<text text-anchor=\"start\" x=\"749.5\" y=\"-348.8\" font-family=\"Helvetica,sans-Serif\" font-size=\"14.00\" fill=\"#000000\">value = [7, 15]</text>\n",
       "<text text-anchor=\"start\" x=\"732\" y=\"-334.8\" font-family=\"Helvetica,sans-Serif\" font-size=\"14.00\" fill=\"#000000\">class = Clinton_freq</text>\n",
       "</g>\n",
       "<!-- 12&#45;&gt;13 -->\n",
       "<g id=\"edge13\" class=\"edge\">\n",
       "<title>12&#45;&gt;13</title>\n",
       "<path fill=\"none\" stroke=\"#000000\" d=\"M793.6704,-441.7677C793.6704,-433.6172 793.6704,-424.9283 793.6704,-416.4649\"/>\n",
       "<polygon fill=\"#000000\" stroke=\"#000000\" points=\"797.1705,-416.3046 793.6704,-406.3046 790.1705,-416.3047 797.1705,-416.3046\"/>\n",
       "</g>\n",
       "<!-- 22 -->\n",
       "<g id=\"node23\" class=\"node\">\n",
       "<title>22</title>\n",
       "<path fill=\"#399de5\" stroke=\"#000000\" d=\"M1010.5116,-399C1010.5116,-399 894.8292,-399 894.8292,-399 888.8292,-399 882.8292,-393 882.8292,-387 882.8292,-387 882.8292,-347 882.8292,-347 882.8292,-341 888.8292,-335 894.8292,-335 894.8292,-335 1010.5116,-335 1010.5116,-335 1016.5116,-335 1022.5116,-341 1022.5116,-347 1022.5116,-347 1022.5116,-387 1022.5116,-387 1022.5116,-393 1016.5116,-399 1010.5116,-399\"/>\n",
       "<text text-anchor=\"start\" x=\"924.0654\" y=\"-383.8\" font-family=\"Helvetica,sans-Serif\" font-size=\"14.00\" fill=\"#000000\">gini = 0.0</text>\n",
       "<text text-anchor=\"start\" x=\"910.8413\" y=\"-369.8\" font-family=\"Helvetica,sans-Serif\" font-size=\"14.00\" fill=\"#000000\">samples = 22</text>\n",
       "<text text-anchor=\"start\" x=\"908.5\" y=\"-355.8\" font-family=\"Helvetica,sans-Serif\" font-size=\"14.00\" fill=\"#000000\">value = [0, 22]</text>\n",
       "<text text-anchor=\"start\" x=\"891\" y=\"-341.8\" font-family=\"Helvetica,sans-Serif\" font-size=\"14.00\" fill=\"#000000\">class = Clinton_freq</text>\n",
       "</g>\n",
       "<!-- 12&#45;&gt;22 -->\n",
       "<g id=\"edge22\" class=\"edge\">\n",
       "<title>12&#45;&gt;22</title>\n",
       "<path fill=\"none\" stroke=\"#000000\" d=\"M848.3892,-441.7677C864.9123,-429.9209 883.0223,-416.9364 899.4464,-405.1606\"/>\n",
       "<polygon fill=\"#000000\" stroke=\"#000000\" points=\"901.7767,-407.7966 907.8642,-399.1252 897.6978,-402.1077 901.7767,-407.7966\"/>\n",
       "</g>\n",
       "<!-- 14 -->\n",
       "<g id=\"node15\" class=\"node\">\n",
       "<title>14</title>\n",
       "<path fill=\"#e58139\" fill-opacity=\"0.749020\" stroke=\"#000000\" d=\"M829.6223,-292C829.6223,-292 717.7185,-292 717.7185,-292 711.7185,-292 705.7185,-286 705.7185,-280 705.7185,-280 705.7185,-226 705.7185,-226 705.7185,-220 711.7185,-214 717.7185,-214 717.7185,-214 829.6223,-214 829.6223,-214 835.6223,-214 841.6223,-220 841.6223,-226 841.6223,-226 841.6223,-280 841.6223,-280 841.6223,-286 835.6223,-292 829.6223,-292\"/>\n",
       "<text text-anchor=\"start\" x=\"721.9634\" y=\"-276.8\" font-family=\"Helvetica,sans-Serif\" font-size=\"14.00\" fill=\"#000000\">like_freq ≤ 0.003</text>\n",
       "<text text-anchor=\"start\" x=\"741.1724\" y=\"-262.8\" font-family=\"Helvetica,sans-Serif\" font-size=\"14.00\" fill=\"#000000\">gini = 0.32</text>\n",
       "<text text-anchor=\"start\" x=\"735.7344\" y=\"-248.8\" font-family=\"Helvetica,sans-Serif\" font-size=\"14.00\" fill=\"#000000\">samples = 5</text>\n",
       "<text text-anchor=\"start\" x=\"733.3931\" y=\"-234.8\" font-family=\"Helvetica,sans-Serif\" font-size=\"14.00\" fill=\"#000000\">value = [4, 1]</text>\n",
       "<text text-anchor=\"start\" x=\"713.9448\" y=\"-220.8\" font-family=\"Helvetica,sans-Serif\" font-size=\"14.00\" fill=\"#000000\">class = Trump_freq</text>\n",
       "</g>\n",
       "<!-- 13&#45;&gt;14 -->\n",
       "<g id=\"edge14\" class=\"edge\">\n",
       "<title>13&#45;&gt;14</title>\n",
       "<path fill=\"none\" stroke=\"#000000\" d=\"M786.7875,-327.7677C785.3419,-319.5277 783.7997,-310.7372 782.2995,-302.1859\"/>\n",
       "<polygon fill=\"#000000\" stroke=\"#000000\" points=\"785.7414,-301.5494 780.566,-292.3046 778.8467,-302.759 785.7414,-301.5494\"/>\n",
       "</g>\n",
       "<!-- 17 -->\n",
       "<g id=\"node18\" class=\"node\">\n",
       "<title>17</title>\n",
       "<path fill=\"#399de5\" fill-opacity=\"0.784314\" stroke=\"#000000\" d=\"M986.5116,-292C986.5116,-292 870.8292,-292 870.8292,-292 864.8292,-292 858.8292,-286 858.8292,-280 858.8292,-280 858.8292,-226 858.8292,-226 858.8292,-220 864.8292,-214 870.8292,-214 870.8292,-214 986.5116,-214 986.5116,-214 992.5116,-214 998.5116,-220 998.5116,-226 998.5116,-226 998.5116,-280 998.5116,-280 998.5116,-286 992.5116,-292 986.5116,-292\"/>\n",
       "<text text-anchor=\"start\" x=\"876.9634\" y=\"-276.8\" font-family=\"Helvetica,sans-Serif\" font-size=\"14.00\" fill=\"#000000\">like_freq ≤ 0.017</text>\n",
       "<text text-anchor=\"start\" x=\"892.2793\" y=\"-262.8\" font-family=\"Helvetica,sans-Serif\" font-size=\"14.00\" fill=\"#000000\">gini = 0.291</text>\n",
       "<text text-anchor=\"start\" x=\"886.8413\" y=\"-248.8\" font-family=\"Helvetica,sans-Serif\" font-size=\"14.00\" fill=\"#000000\">samples = 17</text>\n",
       "<text text-anchor=\"start\" x=\"884.5\" y=\"-234.8\" font-family=\"Helvetica,sans-Serif\" font-size=\"14.00\" fill=\"#000000\">value = [3, 14]</text>\n",
       "<text text-anchor=\"start\" x=\"867\" y=\"-220.8\" font-family=\"Helvetica,sans-Serif\" font-size=\"14.00\" fill=\"#000000\">class = Clinton_freq</text>\n",
       "</g>\n",
       "<!-- 13&#45;&gt;17 -->\n",
       "<g id=\"edge17\" class=\"edge\">\n",
       "<title>13&#45;&gt;17</title>\n",
       "<path fill=\"none\" stroke=\"#000000\" d=\"M840.1298,-327.7677C851.1604,-318.4529 863.024,-308.4347 874.3699,-298.8538\"/>\n",
       "<polygon fill=\"#000000\" stroke=\"#000000\" points=\"876.7433,-301.4306 882.1254,-292.3046 872.227,-296.0824 876.7433,-301.4306\"/>\n",
       "</g>\n",
       "<!-- 15 -->\n",
       "<g id=\"node16\" class=\"node\">\n",
       "<title>15</title>\n",
       "<path fill=\"#399de5\" stroke=\"#000000\" d=\"M676.5116,-171C676.5116,-171 560.8292,-171 560.8292,-171 554.8292,-171 548.8292,-165 548.8292,-159 548.8292,-159 548.8292,-119 548.8292,-119 548.8292,-113 554.8292,-107 560.8292,-107 560.8292,-107 676.5116,-107 676.5116,-107 682.5116,-107 688.5116,-113 688.5116,-119 688.5116,-119 688.5116,-159 688.5116,-159 688.5116,-165 682.5116,-171 676.5116,-171\"/>\n",
       "<text text-anchor=\"start\" x=\"590.0654\" y=\"-155.8\" font-family=\"Helvetica,sans-Serif\" font-size=\"14.00\" fill=\"#000000\">gini = 0.0</text>\n",
       "<text text-anchor=\"start\" x=\"580.7344\" y=\"-141.8\" font-family=\"Helvetica,sans-Serif\" font-size=\"14.00\" fill=\"#000000\">samples = 1</text>\n",
       "<text text-anchor=\"start\" x=\"578.3931\" y=\"-127.8\" font-family=\"Helvetica,sans-Serif\" font-size=\"14.00\" fill=\"#000000\">value = [0, 1]</text>\n",
       "<text text-anchor=\"start\" x=\"557\" y=\"-113.8\" font-family=\"Helvetica,sans-Serif\" font-size=\"14.00\" fill=\"#000000\">class = Clinton_freq</text>\n",
       "</g>\n",
       "<!-- 14&#45;&gt;15 -->\n",
       "<g id=\"edge15\" class=\"edge\">\n",
       "<title>14&#45;&gt;15</title>\n",
       "<path fill=\"none\" stroke=\"#000000\" d=\"M720.3282,-213.7677C704.2207,-201.9209 686.5664,-188.9364 670.5554,-177.1606\"/>\n",
       "<polygon fill=\"#000000\" stroke=\"#000000\" points=\"672.4789,-174.2306 662.3494,-171.1252 668.3315,-179.8697 672.4789,-174.2306\"/>\n",
       "</g>\n",
       "<!-- 16 -->\n",
       "<g id=\"node17\" class=\"node\">\n",
       "<title>16</title>\n",
       "<path fill=\"#e58139\" stroke=\"#000000\" d=\"M829.6223,-171C829.6223,-171 717.7185,-171 717.7185,-171 711.7185,-171 705.7185,-165 705.7185,-159 705.7185,-159 705.7185,-119 705.7185,-119 705.7185,-113 711.7185,-107 717.7185,-107 717.7185,-107 829.6223,-107 829.6223,-107 835.6223,-107 841.6223,-113 841.6223,-119 841.6223,-119 841.6223,-159 841.6223,-159 841.6223,-165 835.6223,-171 829.6223,-171\"/>\n",
       "<text text-anchor=\"start\" x=\"745.0654\" y=\"-155.8\" font-family=\"Helvetica,sans-Serif\" font-size=\"14.00\" fill=\"#000000\">gini = 0.0</text>\n",
       "<text text-anchor=\"start\" x=\"735.7344\" y=\"-141.8\" font-family=\"Helvetica,sans-Serif\" font-size=\"14.00\" fill=\"#000000\">samples = 4</text>\n",
       "<text text-anchor=\"start\" x=\"733.3931\" y=\"-127.8\" font-family=\"Helvetica,sans-Serif\" font-size=\"14.00\" fill=\"#000000\">value = [4, 0]</text>\n",
       "<text text-anchor=\"start\" x=\"713.9448\" y=\"-113.8\" font-family=\"Helvetica,sans-Serif\" font-size=\"14.00\" fill=\"#000000\">class = Trump_freq</text>\n",
       "</g>\n",
       "<!-- 14&#45;&gt;16 -->\n",
       "<g id=\"edge16\" class=\"edge\">\n",
       "<title>14&#45;&gt;16</title>\n",
       "<path fill=\"none\" stroke=\"#000000\" d=\"M773.6704,-213.7677C773.6704,-203.3338 773.6704,-192.0174 773.6704,-181.4215\"/>\n",
       "<polygon fill=\"#000000\" stroke=\"#000000\" points=\"777.1705,-181.1252 773.6704,-171.1252 770.1705,-181.1252 777.1705,-181.1252\"/>\n",
       "</g>\n",
       "<!-- 18 -->\n",
       "<g id=\"node19\" class=\"node\">\n",
       "<title>18</title>\n",
       "<path fill=\"#399de5\" stroke=\"#000000\" d=\"M986.5116,-171C986.5116,-171 870.8292,-171 870.8292,-171 864.8292,-171 858.8292,-165 858.8292,-159 858.8292,-159 858.8292,-119 858.8292,-119 858.8292,-113 864.8292,-107 870.8292,-107 870.8292,-107 986.5116,-107 986.5116,-107 992.5116,-107 998.5116,-113 998.5116,-119 998.5116,-119 998.5116,-159 998.5116,-159 998.5116,-165 992.5116,-171 986.5116,-171\"/>\n",
       "<text text-anchor=\"start\" x=\"900.0654\" y=\"-155.8\" font-family=\"Helvetica,sans-Serif\" font-size=\"14.00\" fill=\"#000000\">gini = 0.0</text>\n",
       "<text text-anchor=\"start\" x=\"886.8413\" y=\"-141.8\" font-family=\"Helvetica,sans-Serif\" font-size=\"14.00\" fill=\"#000000\">samples = 13</text>\n",
       "<text text-anchor=\"start\" x=\"884.5\" y=\"-127.8\" font-family=\"Helvetica,sans-Serif\" font-size=\"14.00\" fill=\"#000000\">value = [0, 13]</text>\n",
       "<text text-anchor=\"start\" x=\"867\" y=\"-113.8\" font-family=\"Helvetica,sans-Serif\" font-size=\"14.00\" fill=\"#000000\">class = Clinton_freq</text>\n",
       "</g>\n",
       "<!-- 17&#45;&gt;18 -->\n",
       "<g id=\"edge18\" class=\"edge\">\n",
       "<title>17&#45;&gt;18</title>\n",
       "<path fill=\"none\" stroke=\"#000000\" d=\"M928.6704,-213.7677C928.6704,-203.3338 928.6704,-192.0174 928.6704,-181.4215\"/>\n",
       "<polygon fill=\"#000000\" stroke=\"#000000\" points=\"932.1705,-181.1252 928.6704,-171.1252 925.1705,-181.1252 932.1705,-181.1252\"/>\n",
       "</g>\n",
       "<!-- 19 -->\n",
       "<g id=\"node20\" class=\"node\">\n",
       "<title>19</title>\n",
       "<path fill=\"#e58139\" fill-opacity=\"0.666667\" stroke=\"#000000\" d=\"M1145.1194,-178C1145.1194,-178 1028.2215,-178 1028.2215,-178 1022.2215,-178 1016.2215,-172 1016.2215,-166 1016.2215,-166 1016.2215,-112 1016.2215,-112 1016.2215,-106 1022.2215,-100 1028.2215,-100 1028.2215,-100 1145.1194,-100 1145.1194,-100 1151.1194,-100 1157.1194,-106 1157.1194,-112 1157.1194,-112 1157.1194,-166 1157.1194,-166 1157.1194,-172 1151.1194,-178 1145.1194,-178\"/>\n",
       "<text text-anchor=\"start\" x=\"1024.4463\" y=\"-162.8\" font-family=\"Helvetica,sans-Serif\" font-size=\"14.00\" fill=\"#000000\">people_freq ≤ 0.037</text>\n",
       "<text text-anchor=\"start\" x=\"1050.2793\" y=\"-148.8\" font-family=\"Helvetica,sans-Serif\" font-size=\"14.00\" fill=\"#000000\">gini = 0.375</text>\n",
       "<text text-anchor=\"start\" x=\"1048.7344\" y=\"-134.8\" font-family=\"Helvetica,sans-Serif\" font-size=\"14.00\" fill=\"#000000\">samples = 4</text>\n",
       "<text text-anchor=\"start\" x=\"1046.3931\" y=\"-120.8\" font-family=\"Helvetica,sans-Serif\" font-size=\"14.00\" fill=\"#000000\">value = [3, 1]</text>\n",
       "<text text-anchor=\"start\" x=\"1026.9448\" y=\"-106.8\" font-family=\"Helvetica,sans-Serif\" font-size=\"14.00\" fill=\"#000000\">class = Trump_freq</text>\n",
       "</g>\n",
       "<!-- 17&#45;&gt;19 -->\n",
       "<g id=\"edge19\" class=\"edge\">\n",
       "<title>17&#45;&gt;19</title>\n",
       "<path fill=\"none\" stroke=\"#000000\" d=\"M983.045,-213.7677C996.2772,-204.2204 1010.5335,-193.9342 1024.1118,-184.1373\"/>\n",
       "<polygon fill=\"#000000\" stroke=\"#000000\" points=\"1026.4017,-186.801 1032.4633,-178.1115 1022.3059,-181.1243 1026.4017,-186.801\"/>\n",
       "</g>\n",
       "<!-- 20 -->\n",
       "<g id=\"node21\" class=\"node\">\n",
       "<title>20</title>\n",
       "<path fill=\"#e58139\" stroke=\"#000000\" d=\"M1064.6223,-64C1064.6223,-64 952.7185,-64 952.7185,-64 946.7185,-64 940.7185,-58 940.7185,-52 940.7185,-52 940.7185,-12 940.7185,-12 940.7185,-6 946.7185,0 952.7185,0 952.7185,0 1064.6223,0 1064.6223,0 1070.6223,0 1076.6223,-6 1076.6223,-12 1076.6223,-12 1076.6223,-52 1076.6223,-52 1076.6223,-58 1070.6223,-64 1064.6223,-64\"/>\n",
       "<text text-anchor=\"start\" x=\"980.0654\" y=\"-48.8\" font-family=\"Helvetica,sans-Serif\" font-size=\"14.00\" fill=\"#000000\">gini = 0.0</text>\n",
       "<text text-anchor=\"start\" x=\"970.7344\" y=\"-34.8\" font-family=\"Helvetica,sans-Serif\" font-size=\"14.00\" fill=\"#000000\">samples = 3</text>\n",
       "<text text-anchor=\"start\" x=\"968.3931\" y=\"-20.8\" font-family=\"Helvetica,sans-Serif\" font-size=\"14.00\" fill=\"#000000\">value = [3, 0]</text>\n",
       "<text text-anchor=\"start\" x=\"948.9448\" y=\"-6.8\" font-family=\"Helvetica,sans-Serif\" font-size=\"14.00\" fill=\"#000000\">class = Trump_freq</text>\n",
       "</g>\n",
       "<!-- 19&#45;&gt;20 -->\n",
       "<g id=\"edge20\" class=\"edge\">\n",
       "<title>19&#45;&gt;20</title>\n",
       "<path fill=\"none\" stroke=\"#000000\" d=\"M1058.069,-99.7647C1051.611,-90.9057 1044.7427,-81.4838 1038.2456,-72.571\"/>\n",
       "<polygon fill=\"#000000\" stroke=\"#000000\" points=\"1040.8746,-70.236 1032.1556,-64.2169 1035.218,-74.3595 1040.8746,-70.236\"/>\n",
       "</g>\n",
       "<!-- 21 -->\n",
       "<g id=\"node22\" class=\"node\">\n",
       "<title>21</title>\n",
       "<path fill=\"#399de5\" stroke=\"#000000\" d=\"M1221.5116,-64C1221.5116,-64 1105.8292,-64 1105.8292,-64 1099.8292,-64 1093.8292,-58 1093.8292,-52 1093.8292,-52 1093.8292,-12 1093.8292,-12 1093.8292,-6 1099.8292,0 1105.8292,0 1105.8292,0 1221.5116,0 1221.5116,0 1227.5116,0 1233.5116,-6 1233.5116,-12 1233.5116,-12 1233.5116,-52 1233.5116,-52 1233.5116,-58 1227.5116,-64 1221.5116,-64\"/>\n",
       "<text text-anchor=\"start\" x=\"1135.0654\" y=\"-48.8\" font-family=\"Helvetica,sans-Serif\" font-size=\"14.00\" fill=\"#000000\">gini = 0.0</text>\n",
       "<text text-anchor=\"start\" x=\"1125.7344\" y=\"-34.8\" font-family=\"Helvetica,sans-Serif\" font-size=\"14.00\" fill=\"#000000\">samples = 1</text>\n",
       "<text text-anchor=\"start\" x=\"1123.3931\" y=\"-20.8\" font-family=\"Helvetica,sans-Serif\" font-size=\"14.00\" fill=\"#000000\">value = [0, 1]</text>\n",
       "<text text-anchor=\"start\" x=\"1102\" y=\"-6.8\" font-family=\"Helvetica,sans-Serif\" font-size=\"14.00\" fill=\"#000000\">class = Clinton_freq</text>\n",
       "</g>\n",
       "<!-- 19&#45;&gt;21 -->\n",
       "<g id=\"edge21\" class=\"edge\">\n",
       "<title>19&#45;&gt;21</title>\n",
       "<path fill=\"none\" stroke=\"#000000\" d=\"M1114.9051,-99.7647C1121.2803,-90.9057 1128.0606,-81.4838 1134.4744,-72.571\"/>\n",
       "<polygon fill=\"#000000\" stroke=\"#000000\" points=\"1137.4861,-74.3781 1140.4863,-64.2169 1131.8043,-70.2893 1137.4861,-74.3781\"/>\n",
       "</g>\n",
       "</g>\n",
       "</svg>\n"
      ],
      "text/plain": [
       "<graphviz.files.Source at 0x1a365ebe80>"
      ]
     },
     "execution_count": 24,
     "metadata": {},
     "output_type": "execute_result"
    }
   ],
   "source": [
    "from sklearn import tree\n",
    "import graphviz\n",
    "\n",
    "print(optimized_model.loc[optimized_model['Model']=='Decision Tree Classifier']['Estimators'].values[0])\n",
    "DT_model = optimized_model.loc[optimized_model['Model']=='Decision Tree Classifier']['Estimators'].values[0]\n",
    "DT_fitted= DT_model.fit(X_train,y_train)\n",
    "\n",
    "dot_data = tree.export_graphviz(DT_fitted, \n",
    "                         feature_names=cols,out_file=None,\n",
    "                         class_names=cols,  \n",
    "                         filled=True, rounded=True,  \n",
    "                         special_characters=True)\n",
    "\n",
    "graph = graphviz.Source(dot_data)  \n",
    "graph "
   ]
  },
  {
   "cell_type": "markdown",
   "metadata": {},
   "source": [
    "---\n",
    "There's a lot to talk about here, but to keep the analysis consice the top three variables shall be considered: the frequency at which people spoke about \n",
    "    1. Hilary,\n",
    "    2. Used the word 'people', and\n",
    "    3. Posted a link ('http').\n",
    "    as a bonus\n",
    "    4. The mean_tweet_length\n",
    "\n",
    "The first three parameters can be traced to the result from [block 10] where it was observed that real people did not talk about Hilary Clinton, would frequently use the word 'people', and never posted links. These activities are inherently bot-like, as observed from our data. \n",
    "\n",
    "It is exciting to see that one of the originally engineered features, mean_tweet_length, was also selected as a top variable for this decision tree classifier.\n",
    "\n",
    "---"
   ]
  }
 ],
 "metadata": {
  "kernelspec": {
   "display_name": "Python 3",
   "language": "python",
   "name": "python3"
  },
  "language_info": {
   "codemirror_mode": {
    "name": "ipython",
    "version": 3
   },
   "file_extension": ".py",
   "mimetype": "text/x-python",
   "name": "python",
   "nbconvert_exporter": "python",
   "pygments_lexer": "ipython3",
   "version": "3.6.4"
  }
 },
 "nbformat": 4,
 "nbformat_minor": 2
}

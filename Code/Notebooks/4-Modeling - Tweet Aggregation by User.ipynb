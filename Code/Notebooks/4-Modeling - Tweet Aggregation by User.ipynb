{
 "cells": [
  {
   "cell_type": "markdown",
   "metadata": {},
   "source": [
    "## LOAD LIBRARIES"
   ]
  },
  {
   "cell_type": "code",
   "execution_count": 3,
   "metadata": {},
   "outputs": [],
   "source": [
    "import numpy as np\n",
    "import pandas as pd\n",
    "import matplotlib\n",
    "import matplotlib.pyplot as plt\n",
    "import json\n",
    "\n",
    "import warnings\n",
    "warnings.simplefilter('ignore')\n",
    "\n",
    "from sklearn import preprocessing\n",
    "from sklearn.preprocessing import StandardScaler\n",
    "from sklearn.preprocessing import MinMaxScaler\n",
    "\n",
    "from sklearn.metrics import accuracy_score\n",
    "\n",
    "from sklearn.neighbors import KNeighborsClassifier\n",
    "from sklearn.linear_model import LogisticRegression\n",
    "from sklearn.discriminant_analysis import LinearDiscriminantAnalysis\n",
    "from sklearn.discriminant_analysis import QuadraticDiscriminantAnalysis\n",
    "from sklearn.tree import DecisionTreeClassifier\n",
    "from sklearn.ensemble import RandomForestClassifier\n",
    "from sklearn.ensemble import AdaBoostClassifier\n",
    "\n",
    "from sklearn.model_selection import GridSearchCV\n",
    "\n",
    "from keras.models import Sequential\n",
    "from keras.layers import Dense\n",
    "from keras.utils import to_categorical\n",
    "\n",
    "from IPython.display import display, HTML, Image"
   ]
  },
  {
   "cell_type": "markdown",
   "metadata": {},
   "source": [
    "# 4.0. Modeling \n",
    "\n",
    "The modeling in this Notebook mirrors what we performed in our later assignments, involving many classes of models. All the modeling performed in this Notebook is based on Tweet Aggregation by User."
   ]
  },
  {
   "cell_type": "markdown",
   "metadata": {},
   "source": [
    "## LOAD ENRICHED DATA"
   ]
  },
  {
   "cell_type": "code",
   "execution_count": 5,
   "metadata": {},
   "outputs": [
    {
     "name": "stdout",
     "output_type": "stream",
     "text": [
      "(167, 9) (167, 9)\n"
     ]
    }
   ],
   "source": [
    "# try to load files locally, if don't exist, we load try to load from Microsoft Azure. \n",
    "#We could not upload to Github.com because we are using a private repository and the files were to large.\n",
    "\n",
    "try:\n",
    "    with open(\"data/train_data.json\") as datafile:\n",
    "        data = json.load(datafile)\n",
    "\n",
    "    train_data = pd.read_json(data)\n",
    "\n",
    "    with open(\"data/test_data.json\") as datafile:\n",
    "        data = json.load(datafile)\n",
    "\n",
    "    test_data = pd.read_json(data)\n",
    "except Exception as e:\n",
    "    print(\"Loading Data from Azure - data files do not exist locally\")\n",
    "    \n",
    "    train_url = \"https://eumarharvardfiles.blob.core.windows.net/cscis109/test_data.json\"\n",
    "    train_content = requests.get(train_url).content\n",
    "\n",
    "    test_url = \"https://eumarharvardfiles.blob.core.windows.net/cscis109/test_data.json\"\n",
    "    test_content = requests.get(test_url).content\n",
    "\n",
    "    train_data = pd.read_json(json.load(io.StringIO(train_content.decode('utf-8'))))\n",
    "    test_data = pd.read_json(json.load(io.StringIO(test_content.decode('utf-8'))))\n",
    "    \n",
    "print(test_data.shape, test_data.shape)"
   ]
  },
  {
   "cell_type": "markdown",
   "metadata": {},
   "source": [
    "## DO EXTRA, FINAL DATA CLEANING"
   ]
  },
  {
   "cell_type": "code",
   "execution_count": 6,
   "metadata": {},
   "outputs": [],
   "source": [
    "# Fill in NaN in follower count that we missed in earlier cleaning\n",
    "train_data['followers_count'] =  train_data.where(train_data.followers_count.isnull(), \n",
    "                                                  np.mean(train_data.followers_count))\n",
    "\n",
    "test_data['followers_count'] =  test_data.where(test_data.followers_count.isnull(), \n",
    "                                                 np.mean(test_data.followers_count))\n",
    "\n",
    "# Creat list of features\n",
    "features = ['avg_intertweet_time', \n",
    "            'avg_text_length',\n",
    "            'count_tweets',\n",
    "            'followers_count',\n",
    "            'is_tweet',\n",
    "            'nlp_count_key_phrases',\n",
    "            'nlp_sentiment_score']\n",
    "\n",
    "# Create data matrix for train and test\n",
    "X_train = train_data[features]\n",
    "X_test = test_data[features]\n",
    "\n",
    "# Standardize data matrix (needed for KNN and NN)\n",
    "original_columns = X_train.columns.values\n",
    "scaler = StandardScaler().fit(X_train)\n",
    "X_train_std = pd.DataFrame(scaler.transform(X_train),columns=original_columns)\n",
    "X_test_std = pd.DataFrame(scaler.transform(X_test),columns=original_columns)\n",
    "\n",
    "# Create response matrix for train and test\n",
    "y_train = train_data['is_bot']\n",
    "y_test = test_data['is_bot']"
   ]
  },
  {
   "cell_type": "markdown",
   "metadata": {},
   "source": [
    "## BEGIN MODELING"
   ]
  },
  {
   "cell_type": "code",
   "execution_count": 7,
   "metadata": {},
   "outputs": [],
   "source": [
    "def run_default_model(model_text, model, X_train, y_train, X_test, y_test):\n",
    "    \n",
    "    '''\n",
    "    This function fits a basic/default model and prints accuracy scores.\n",
    "    model_text input:  displayed in results\n",
    "    model:  model object that can be fit\n",
    "    X_train: train data matrix\n",
    "    y_train:  train response\n",
    "    X_test:  test data matrix\n",
    "    y_test:  test response\n",
    "    '''\n",
    "    \n",
    "    # Fit the model\n",
    "    model_fitted = model.fit(X_train,y_train)\n",
    "    \n",
    "    # Use fitted model for predictions\n",
    "    y_hat_train = model_fitted.predict(X_train)\n",
    "    y_hat_test = model_fitted.predict(X_test)\n",
    "\n",
    "    #  Calculate accuracy scores\n",
    "    accuracy_score_train = accuracy_score(y_train, y_hat_train)\n",
    "    accuracy_score_test = accuracy_score(y_test, y_hat_test)\n",
    "\n",
    "    # Show results\n",
    "    print('Base model: {:s}.\\nTraining data accuracy score: {:0.3f}.'.format(model_text,accuracy_score_train))\n",
    "    print('Testing data accuracy score: {:0.3f}.'.format(accuracy_score_test))\n",
    "    print()\n",
    "    \n",
    "    return([float(accuracy_score_train),float(accuracy_score_test)])"
   ]
  },
  {
   "cell_type": "markdown",
   "metadata": {},
   "source": [
    "## RUN 7 BASE/DEFAULT MODELS"
   ]
  },
  {
   "cell_type": "code",
   "execution_count": 8,
   "metadata": {},
   "outputs": [],
   "source": [
    "# Creat array in which to save train and test results\n",
    "# for base/default modeling\n",
    "# columns:  model_name, train_score, test_score\n",
    "default_model_results = np.chararray((7,3),itemsize=30)"
   ]
  },
  {
   "cell_type": "code",
   "execution_count": 9,
   "metadata": {
    "scrolled": false
   },
   "outputs": [
    {
     "name": "stdout",
     "output_type": "stream",
     "text": [
      "Base model: KNN.\n",
      "Training data accuracy score: 0.934.\n",
      "Testing data accuracy score: 0.844.\n",
      "\n",
      "Base model: Logistic Regression.\n",
      "Training data accuracy score: 0.886.\n",
      "Testing data accuracy score: 0.743.\n",
      "\n",
      "Base model: LDA.\n",
      "Training data accuracy score: 0.807.\n",
      "Testing data accuracy score: 0.311.\n",
      "\n",
      "Base model: QDA.\n",
      "Training data accuracy score: 0.867.\n",
      "Testing data accuracy score: 0.743.\n",
      "\n",
      "Base model: Decision Tree Model.\n",
      "Training data accuracy score: 1.000.\n",
      "Testing data accuracy score: 0.868.\n",
      "\n",
      "Base model: Random Forest Classifier.\n",
      "Training data accuracy score: 0.994.\n",
      "Testing data accuracy score: 0.808.\n",
      "\n",
      "Base model: AdaBoost Classifier.\n",
      "Training data accuracy score: 1.000.\n",
      "Testing data accuracy score: 0.934.\n",
      "\n"
     ]
    },
    {
     "data": {
      "text/html": [
       "<div>\n",
       "<style scoped>\n",
       "    .dataframe tbody tr th:only-of-type {\n",
       "        vertical-align: middle;\n",
       "    }\n",
       "\n",
       "    .dataframe tbody tr th {\n",
       "        vertical-align: top;\n",
       "    }\n",
       "\n",
       "    .dataframe thead th {\n",
       "        text-align: right;\n",
       "    }\n",
       "</style>\n",
       "<table border=\"1\" class=\"dataframe\">\n",
       "  <thead>\n",
       "    <tr style=\"text-align: right;\">\n",
       "      <th></th>\n",
       "      <th>Model</th>\n",
       "      <th>Training_Result</th>\n",
       "      <th>Testing_Result</th>\n",
       "    </tr>\n",
       "  </thead>\n",
       "  <tbody>\n",
       "    <tr>\n",
       "      <th>0</th>\n",
       "      <td>KNN</td>\n",
       "      <td>0.933735</td>\n",
       "      <td>0.844311</td>\n",
       "    </tr>\n",
       "    <tr>\n",
       "      <th>1</th>\n",
       "      <td>Logistic Regression</td>\n",
       "      <td>0.885542</td>\n",
       "      <td>0.742515</td>\n",
       "    </tr>\n",
       "    <tr>\n",
       "      <th>2</th>\n",
       "      <td>LDA</td>\n",
       "      <td>0.807229</td>\n",
       "      <td>0.311377</td>\n",
       "    </tr>\n",
       "    <tr>\n",
       "      <th>3</th>\n",
       "      <td>QDA</td>\n",
       "      <td>0.867470</td>\n",
       "      <td>0.742515</td>\n",
       "    </tr>\n",
       "    <tr>\n",
       "      <th>4</th>\n",
       "      <td>Decision Tree Model</td>\n",
       "      <td>1.000000</td>\n",
       "      <td>0.868263</td>\n",
       "    </tr>\n",
       "    <tr>\n",
       "      <th>5</th>\n",
       "      <td>Random Forest Classifier</td>\n",
       "      <td>0.993976</td>\n",
       "      <td>0.808383</td>\n",
       "    </tr>\n",
       "    <tr>\n",
       "      <th>6</th>\n",
       "      <td>AdaBoost Classifier</td>\n",
       "      <td>1.000000</td>\n",
       "      <td>0.934132</td>\n",
       "    </tr>\n",
       "  </tbody>\n",
       "</table>\n",
       "</div>"
      ],
      "text/plain": [
       "                      Model  Training_Result  Testing_Result\n",
       "0                       KNN         0.933735        0.844311\n",
       "1       Logistic Regression         0.885542        0.742515\n",
       "2                       LDA         0.807229        0.311377\n",
       "3                       QDA         0.867470        0.742515\n",
       "4       Decision Tree Model         1.000000        0.868263\n",
       "5  Random Forest Classifier         0.993976        0.808383\n",
       "6       AdaBoost Classifier         1.000000        0.934132"
      ]
     },
     "execution_count": 9,
     "metadata": {},
     "output_type": "execute_result"
    }
   ],
   "source": [
    "# Run default model for KNN\n",
    "# Save model_text, training and test scores in array for plotting\n",
    "\n",
    "models = [KNeighborsClassifier(), LogisticRegression(), QuadraticDiscriminantAnalysis(), LinearDiscriminantAnalysis(), \n",
    "          DecisionTreeClassifier(), RandomForestClassifier(), AdaBoostClassifier()]\n",
    "model_texts =['KNN', 'Logistic Regression', 'LDA', 'QDA', \n",
    "              'Decision Tree Model', 'Random Forest Classifier', 'AdaBoost Classifier']\n",
    "\n",
    "default_model_results = pd.DataFrame(columns=[\"Model\", \"Training_Result\", \"Testing_Result\"])\n",
    "\n",
    "for i, model in enumerate(models):\n",
    "    model_num = i\n",
    "    model_res = run_default_model(model_texts[i], model, X_train_std, y_train, X_test_std, y_test)   \n",
    "    default_model_results = default_model_results.append({\"Model\":model_texts[i],\n",
    "                                                          \"Training_Result\":model_res[0],\n",
    "                                                          \"Testing_Result\":model_res[1]}, ignore_index=True)\n",
    "\n",
    "\n",
    "default_model_results"
   ]
  },
  {
   "cell_type": "code",
   "execution_count": 35,
   "metadata": {},
   "outputs": [
    {
     "data": {
      "image/png": "[encoded data removed]",
      "text/plain": [
       "<matplotlib.figure.Figure at 0x1e9e97f1780>"
      ]
     },
     "metadata": {},
     "output_type": "display_data"
    }
   ],
   "source": [
    "def set_labels(ax):\n",
    "    \"\"\"\n",
    "    This is just a 'helper funtion' used in this question to make\n",
    "    creating lables a bit more neat.\n",
    "    input:  ax on which to set labels\n",
    "    \"\"\"\n",
    "    ax.set_title('Accuracy of Default Model for Each Model Class', fontsize=18)\n",
    "    ax.set_xlabel('Model Class', fontsize=15)\n",
    "    ax.set_ylabel('Accuracy',fontsize=15)\n",
    "    ax.set_xticks(x_axis)\n",
    "    ax.set_xticklabels(x_labels)\n",
    "    ax.set_ylim([0,1.2])\n",
    "    ax.grid('True', alpha=.5, axis='y')\n",
    "    ax.legend(fontsize=15)\n",
    "    return()\n",
    "\n",
    "# Get fig, ax for plotting\n",
    "fig, ax = plt.subplots(figsize=(18,6))\n",
    "\n",
    "# Create x axis and bar width for plotting from results in array\n",
    "x_labels = default_model_results['Model']\n",
    "x_axis = np.arange(len(x_labels))\n",
    "bar_width = .4\n",
    "\n",
    "# Create y axis for plotting from results array\n",
    "y_numbers_train = default_model_results['Training_Result']\n",
    "y_numbers_test = default_model_results['Testing_Result']\n",
    "\n",
    "# Plot training and testing score accuracy for each base model\n",
    "ax.bar(x_axis-bar_width/2,y_numbers_train, width=bar_width, label='Training Data')\n",
    "ax.bar(x_axis+bar_width/2,y_numbers_test, width=bar_width, label='Testing Data')\n",
    "\n",
    "# Print values on the bars for training data\n",
    "for i, label in enumerate(x_labels):\n",
    "    score = y_numbers_train[i]\n",
    "    ax.annotate('{:f}'.format(score), (i-.175-bar_width/2, score + 0.01))\n",
    "\n",
    "# Print values on the bars for testing data\n",
    "for i, label in enumerate(x_labels):\n",
    "    score = y_numbers_test[i]\n",
    "    ax.annotate('{:f}'.format(score), (i-.175+bar_width/2, score + 0.01))\n",
    "    \n",
    "# Show titles and labels, etc.\n",
    "set_labels(ax)\n",
    "\n",
    "# Save the plot\n",
    "fig.savefig('Twitter-1.png', bbox_inches='tight')"
   ]
  },
  {
   "cell_type": "markdown",
   "metadata": {},
   "source": [
    "## TUNE 7 BASE/DEFAULT MODELS WITH GRIDSEARCHCV"
   ]
  },
  {
   "cell_type": "code",
   "execution_count": 36,
   "metadata": {},
   "outputs": [],
   "source": [
    "# Creat array in which to save train and test results\n",
    "# for best in class (bic) modeling\n",
    "# columns:  model_name, train_score, test_score\n",
    "bic_model_results = np.chararray((7,3),itemsize=30)"
   ]
  },
  {
   "cell_type": "code",
   "execution_count": 37,
   "metadata": {},
   "outputs": [],
   "source": [
    "def run_best_in_class_model(model_text, model_class, model_parameters, X_train, y_train, X_test, y_test):\n",
    "\n",
    "    '''\n",
    "    This function uses GridSerachCV to tune parameters\n",
    "    This function then fits a best-in-class model and prints accuracy scores.\n",
    "    and prints accuracy score.\n",
    "    model_text input:  displayed in results\n",
    "    model:  model object that can be fit\n",
    "    X_train: train data matrix\n",
    "    y_train:  train response\n",
    "    X_test:  test data matrix\n",
    "    y_test:  test response\n",
    "    '''\n",
    "    \n",
    "    # Define the GridSearchCV to find the best set of parameters\n",
    "    model = GridSearchCV(model_class, model_parameters, cv=5)\n",
    "\n",
    "    # Fit the model using GridSearchCV on training data\n",
    "    model_fitted = model.fit(X_train,y_train)\n",
    "\n",
    "    # Show which model was selected by GridSearchCV\n",
    "    #print(model_fitted.best_estimator_)\n",
    "\n",
    "    # Create prediction with model selected by GridSearchCV from test data\n",
    "    y_train_hat = model_fitted.predict(X_train)\n",
    "    y_test_hat = model_fitted.predict(X_test)\n",
    "\n",
    "    # Create accuracy score with test data\n",
    "    accuracy_score_train = accuracy_score(y_train,y_train_hat)\n",
    "    accuracy_score_test = accuracy_score(y_test,y_test_hat)\n",
    "\n",
    "    # Show results\n",
    "    print('Base model: {:s}.\\nTraining data accuracy score: {:0.3f}.'.format(model_text,accuracy_score_train))\n",
    "    print('Testing data accuracy score: {:0.3f}.'.format(accuracy_score_test))\n",
    "    print()\n",
    "    \n",
    "    return(accuracy_score_train, accuracy_score_test, model_fitted.best_estimator_)"
   ]
  },
  {
   "cell_type": "code",
   "execution_count": 38,
   "metadata": {},
   "outputs": [],
   "source": [
    "# Create dictionary to save the best in class (bic) model objects for use in meta-model\n",
    "optimized_model = pd.DataFrame(columns=[\"Model\", \"Training_Result\", \"Testing_Result\", \"Estimators\"])"
   ]
  },
  {
   "cell_type": "code",
   "execution_count": 39,
   "metadata": {},
   "outputs": [
    {
     "name": "stdout",
     "output_type": "stream",
     "text": [
      "Base model: KNN.\n",
      "Training data accuracy score: 0.952.\n",
      "Testing data accuracy score: 0.856.\n",
      "\n",
      "Base model: Logistic Regression.\n",
      "Training data accuracy score: 0.867.\n",
      "Testing data accuracy score: 0.737.\n",
      "\n",
      "Base model: LDA.\n",
      "Training data accuracy score: 0.867.\n",
      "Testing data accuracy score: 0.743.\n",
      "\n",
      "Base model: QDA.\n",
      "Training data accuracy score: 0.922.\n",
      "Testing data accuracy score: 0.311.\n",
      "\n",
      "Base model: Decision Tree Classifier.\n",
      "Training data accuracy score: 0.952.\n",
      "Testing data accuracy score: 0.886.\n",
      "\n",
      "Base model: Random Forest Classifier.\n",
      "Training data accuracy score: 0.994.\n",
      "Testing data accuracy score: 0.862.\n",
      "\n",
      "Base model: AdaBoost Classifier.\n",
      "Training data accuracy score: 1.000.\n",
      "Testing data accuracy score: 0.892.\n",
      "\n"
     ]
    },
    {
     "data": {
      "text/html": [
       "<div>\n",
       "<style scoped>\n",
       "    .dataframe tbody tr th:only-of-type {\n",
       "        vertical-align: middle;\n",
       "    }\n",
       "\n",
       "    .dataframe tbody tr th {\n",
       "        vertical-align: top;\n",
       "    }\n",
       "\n",
       "    .dataframe thead th {\n",
       "        text-align: right;\n",
       "    }\n",
       "</style>\n",
       "<table border=\"1\" class=\"dataframe\">\n",
       "  <thead>\n",
       "    <tr style=\"text-align: right;\">\n",
       "      <th></th>\n",
       "      <th>Model</th>\n",
       "      <th>Training_Result</th>\n",
       "      <th>Testing_Result</th>\n",
       "      <th>Estimators</th>\n",
       "    </tr>\n",
       "  </thead>\n",
       "  <tbody>\n",
       "    <tr>\n",
       "      <th>0</th>\n",
       "      <td>KNN</td>\n",
       "      <td>0.951807</td>\n",
       "      <td>0.856287</td>\n",
       "      <td>KNeighborsClassifier(algorithm='auto', leaf_si...</td>\n",
       "    </tr>\n",
       "    <tr>\n",
       "      <th>1</th>\n",
       "      <td>Logistic Regression</td>\n",
       "      <td>0.867470</td>\n",
       "      <td>0.736527</td>\n",
       "      <td>LogisticRegression(C=0.0001, class_weight=None...</td>\n",
       "    </tr>\n",
       "    <tr>\n",
       "      <th>2</th>\n",
       "      <td>LDA</td>\n",
       "      <td>0.867470</td>\n",
       "      <td>0.742515</td>\n",
       "      <td>LinearDiscriminantAnalysis(n_components=None, ...</td>\n",
       "    </tr>\n",
       "    <tr>\n",
       "      <th>3</th>\n",
       "      <td>QDA</td>\n",
       "      <td>0.921687</td>\n",
       "      <td>0.311377</td>\n",
       "      <td>QuadraticDiscriminantAnalysis(priors=None, reg...</td>\n",
       "    </tr>\n",
       "    <tr>\n",
       "      <th>4</th>\n",
       "      <td>Decision Tree Classifier</td>\n",
       "      <td>0.951807</td>\n",
       "      <td>0.886228</td>\n",
       "      <td>DecisionTreeClassifier(class_weight=None, crit...</td>\n",
       "    </tr>\n",
       "    <tr>\n",
       "      <th>5</th>\n",
       "      <td>Random Forest Classifier</td>\n",
       "      <td>0.993976</td>\n",
       "      <td>0.862275</td>\n",
       "      <td>(DecisionTreeClassifier(class_weight=None, cri...</td>\n",
       "    </tr>\n",
       "    <tr>\n",
       "      <th>6</th>\n",
       "      <td>AdaBoost Classifier</td>\n",
       "      <td>1.000000</td>\n",
       "      <td>0.892216</td>\n",
       "      <td>((DecisionTreeClassifier(class_weight=None, cr...</td>\n",
       "    </tr>\n",
       "  </tbody>\n",
       "</table>\n",
       "</div>"
      ],
      "text/plain": [
       "                      Model  Training_Result  Testing_Result  \\\n",
       "0                       KNN         0.951807        0.856287   \n",
       "1       Logistic Regression         0.867470        0.736527   \n",
       "2                       LDA         0.867470        0.742515   \n",
       "3                       QDA         0.921687        0.311377   \n",
       "4  Decision Tree Classifier         0.951807        0.886228   \n",
       "5  Random Forest Classifier         0.993976        0.862275   \n",
       "6       AdaBoost Classifier         1.000000        0.892216   \n",
       "\n",
       "                                          Estimators  \n",
       "0  KNeighborsClassifier(algorithm='auto', leaf_si...  \n",
       "1  LogisticRegression(C=0.0001, class_weight=None...  \n",
       "2  LinearDiscriminantAnalysis(n_components=None, ...  \n",
       "3  QuadraticDiscriminantAnalysis(priors=None, reg...  \n",
       "4  DecisionTreeClassifier(class_weight=None, crit...  \n",
       "5  (DecisionTreeClassifier(class_weight=None, cri...  \n",
       "6  ((DecisionTreeClassifier(class_weight=None, cr...  "
      ]
     },
     "execution_count": 39,
     "metadata": {},
     "output_type": "execute_result"
    }
   ],
   "source": [
    "# Create best-in-class KNN model with GridSearchCV tuning\n",
    "# Save model_text, training and test scores in array for plotting\n",
    "\n",
    "models = [KNeighborsClassifier(), LogisticRegression(), LinearDiscriminantAnalysis(),\n",
    "          QuadraticDiscriminantAnalysis(), DecisionTreeClassifier(),\n",
    "          RandomForestClassifier(), AdaBoostClassifier()]\n",
    "\n",
    "model_texts =['KNN', 'Logistic Regression', 'LDA', 'QDA',\n",
    "              'Decision Tree Classifier', 'Random Forest Classifier', 'AdaBoost Classifier']\n",
    "\n",
    "KNN_params = [{'n_neighbors': [1,3,5,10,15]}]\n",
    "LOG_params = [{'C':[.0001,.0001,.001,.01,.1,1,10,100,1000,10000]}]\n",
    "LDA_params = [{'solver':['lsqr'],'shrinkage':[0,.2,.4,.6,.8,1]}]\n",
    "QDA_params = [{'reg_param': [.0001, .001, .01, .1, 0, 1, 10, 100, 500, 1000, 10000]}]\n",
    "DTC_params = [{'max_depth': [3,5,7,9,None],'max_features': [1,3,5,None],'min_samples_split': [2,4,8]}]\n",
    "RFC_params = [{'n_estimators': [10,15,25,40], 'max_depth': [3,5,7,9,None],\n",
    "               'max_features': [1,3,5,'auto'], 'min_samples_split': [2,4,8]}]\n",
    "ABC_params = [{'base_estimator':[LogisticRegression(), DecisionTreeClassifier(), RandomForestClassifier()],\n",
    "               'learning_rate':[.2,.4,.6,.8,1]}]\n",
    "\n",
    "\n",
    "model_params = [KNN_params, LOG_params, LDA_params, QDA_params, DTC_params, RFC_params, ABC_params]\n",
    "\n",
    "for i, model in enumerate(models):\n",
    "    bic_model_res = run_best_in_class_model(model_texts[i], model, model_params[i], \\\n",
    "                                        X_train_std, y_train, X_test_std, y_test)\n",
    "    \n",
    "    optimized_model = optimized_model.append({\"Model\":model_texts[i],\n",
    "                                              \"Training_Result\":bic_model_res[0],\n",
    "                                              \"Testing_Result\":bic_model_res[1],\n",
    "                                              \"Estimators\":bic_model_res[2]}, ignore_index=True)\n",
    "optimized_model"
   ]
  },
  {
   "cell_type": "code",
   "execution_count": 40,
   "metadata": {},
   "outputs": [
    {
     "data": {
      "image/png": "[encoded data removed]",
      "text/plain": [
       "<matplotlib.figure.Figure at 0x1e9e97c4a20>"
      ]
     },
     "metadata": {},
     "output_type": "display_data"
    }
   ],
   "source": [
    "def set_labels(ax):\n",
    "    \"\"\"\n",
    "    This is just a 'helper funtion' used in this question to make\n",
    "    creating lables a bit more neat.\n",
    "    input:  ax on which to set labels\n",
    "    \"\"\"\n",
    "    ax.set_title('Accuracy with Testing Data Default and Tuned Models', fontsize=18)\n",
    "    ax.set_xlabel('Model Class', fontsize=15)\n",
    "    ax.set_ylabel('Accuracy',fontsize=15)\n",
    "    ax.set_xticks(x_axis)\n",
    "    ax.set_xticklabels(x_labels)\n",
    "    ax.set_ylim([0,1.2])\n",
    "    ax.grid('True', alpha=.5, axis='y')\n",
    "    ax.legend(fontsize=15)\n",
    "    return()\n",
    "\n",
    "# Get fig, ax for plotting\n",
    "fig, ax = plt.subplots(figsize=(18,6))\n",
    "\n",
    "# Create x axis and bar width for plotting from results in array\n",
    "x_labels = default_model_results['Model']\n",
    "x_axis = np.arange(len(x_labels))\n",
    "bar_width = .4\n",
    "\n",
    "# Create y axis for plotting from testing results\n",
    "y_numbers_base = default_model_results['Testing_Result']\n",
    "y_numbers_bic = optimized_model['Testing_Result']\n",
    "\n",
    "# Plot training and testing score accuracy for each base model\n",
    "ax.bar(x_axis-bar_width/2,y_numbers_base, width=bar_width, label='Default')\n",
    "ax.bar(x_axis+bar_width/2,y_numbers_bic, width=bar_width, label='Tuned')\n",
    "\n",
    "# Print values on the bars for default data\n",
    "for i, label in enumerate(x_labels):\n",
    "    score = y_numbers_base[i]\n",
    "    ax.annotate('{:f}'.format(score), (i-.175-bar_width/2, score + 0.01))\n",
    "\n",
    "# Print values on the bars for tuned data\n",
    "for i, label in enumerate(x_labels):\n",
    "    score = y_numbers_bic[i]\n",
    "    ax.annotate('{:f}'.format(score), (i-.175+bar_width/2, score + 0.01))\n",
    "    \n",
    "# Show titles and labels, etc.\n",
    "set_labels(ax)\n",
    "\n",
    "# Save the plot\n",
    "fig.savefig('Twitter-2.png', bbox_inches='tight')"
   ]
  },
  {
   "cell_type": "markdown",
   "metadata": {},
   "source": [
    "## CREATE META-MODEL BASED ON 7 TUNED MODELS"
   ]
  },
  {
   "cell_type": "markdown",
   "metadata": {},
   "source": [
    "**Lacking tuning data for ensemble**"
   ]
  },
  {
   "cell_type": "code",
   "execution_count": 41,
   "metadata": {
    "scrolled": false
   },
   "outputs": [],
   "source": [
    "# Save number of training observations\n",
    "# NOTE:  We are re-using training data\n",
    "# as opposed to tuning with tuning data\n",
    "# due to lack of data.  None limitation of\n",
    "# project.\n",
    "num_train_observations = len(X_train_std)\n",
    "num_test_observations = len(X_test_std)\n",
    "\n",
    "# Initialize dataframes for storing results\n",
    "ensemble_train = pd.DataFrame()\n",
    "ensemble_test = pd.DataFrame()\n",
    "\n",
    "# Initialize arrays for storing results\n",
    "predictions_train = np.zeros(num_train_observations)\n",
    "predictions_test = np.zeros(num_test_observations)\n",
    "\n",
    "#  For each model in ensemble..\n",
    "for model_name in optimized_model['Model']:\n",
    "        \n",
    "    # Get the model selected by GridSearchCV\n",
    "    model = optimized_model.loc[optimized_model.Model == model_name].Estimators.values[0]\n",
    "\n",
    "    # Fit the model selected by GridSearchCV \n",
    "    # on the training data. This is normally\n",
    "    # where we would be fitting on tuning data\n",
    "    # which we don't have.  Arguablly, re-fitting\n",
    "    # on training is unnessary (done above), \n",
    "    # but we are going through this step to be \n",
    "    # consistent with what we would do if we \n",
    "    # had tuning data.\n",
    "    model_fitted = model.fit(X_train_std,y_train)\n",
    "    \n",
    "    # Generate predictions (as probability of class 1)\n",
    "    # using each 'bic' model (re-fiitted on training data) \n",
    "    # with both the training data and testing data\n",
    "    y_hat_train = model_fitted.predict_proba(X_train_std)[:,1]\n",
    "    y_hat_test = model_fitted.predict_proba(X_test_std)[:,1]\n",
    "  \n",
    "    # Create a column to store these predictions \n",
    "    # for both tuning data and testing data\n",
    "    df_column_name = \"{:s} probability '1'\".format(model_name)\n",
    "    ensemble_train[df_column_name] = y_hat_train\n",
    "    ensemble_test[df_column_name] = y_hat_test"
   ]
  },
  {
   "cell_type": "code",
   "execution_count": 42,
   "metadata": {},
   "outputs": [
    {
     "name": "stdout",
     "output_type": "stream",
     "text": [
      "Base model: Random Forest.\n",
      "Training data accuracy score: 1.000.\n",
      "Testing data accuracy score: 0.904.\n",
      "\n"
     ]
    }
   ],
   "source": [
    "# Use data matrix from ensemble models as training\n",
    "# data for RF meta-model\n",
    "# Save model_text, training and test scores in array for plotting\n",
    "model_text = \"Random Forest\"\n",
    "model_class = RandomForestClassifier()\n",
    "model_parameters = [{'n_estimators': [15,25,40],\n",
    "                     'max_depth': [3,5,7,9],\n",
    "                     'max_features': [1,3,5],\n",
    "                     'min_samples_split': [2,4,8]\n",
    "                    }]\n",
    "\n",
    "ensemble_results_train, ensemble_results_test, ensemble_results_model = \\\n",
    "                                                run_best_in_class_model(model_text, \n",
    "                                                                        model_class, \n",
    "                                                                        model_parameters, \n",
    "                                                                        ensemble_train, \n",
    "                                                                        y_train, \n",
    "                                                                        ensemble_test, \n",
    "                                                                        y_test)"
   ]
  },
  {
   "cell_type": "markdown",
   "metadata": {},
   "source": [
    "## Create Neural Network"
   ]
  },
  {
   "cell_type": "code",
   "execution_count": 43,
   "metadata": {},
   "outputs": [],
   "source": [
    "# Convert response variable to categoricals for NN\n",
    "y_train_cat = to_categorical(y_train, num_classes=2)\n",
    "y_test_cat  = to_categorical(y_test, num_classes=2)"
   ]
  },
  {
   "cell_type": "code",
   "execution_count": 44,
   "metadata": {},
   "outputs": [],
   "source": [
    "# Scale data matrix to make more compatible with Keras\n",
    "scaler = MinMaxScaler().fit(X_train)\n",
    "X_train_scaled = scaler.transform(X_train)\n",
    "X_test_scaled = scaler.transform(X_test)"
   ]
  },
  {
   "cell_type": "code",
   "execution_count": 45,
   "metadata": {},
   "outputs": [],
   "source": [
    "# Define NN nodes\n",
    "# Input shape = 7 because we have 7 features in X_train\n",
    "# Output layer is size 2 with softmax\n",
    "# activiation because we are doing binomial classification\n",
    "model_NN= Sequential([\n",
    "    Dense(7, input_shape=(7,), activation='relu'),\n",
    "    Dense(4, activation='relu'),\n",
    "    Dense(3, activation='relu'),\n",
    "    Dense(2, activation='softmax')\n",
    "])"
   ]
  },
  {
   "cell_type": "code",
   "execution_count": 46,
   "metadata": {},
   "outputs": [
    {
     "name": "stdout",
     "output_type": "stream",
     "text": [
      "_________________________________________________________________\n",
      "Layer (type)                 Output Shape              Param #   \n",
      "=================================================================\n",
      "dense_5 (Dense)              (None, 7)                 56        \n",
      "_________________________________________________________________\n",
      "dense_6 (Dense)              (None, 4)                 32        \n",
      "_________________________________________________________________\n",
      "dense_7 (Dense)              (None, 3)                 15        \n",
      "_________________________________________________________________\n",
      "dense_8 (Dense)              (None, 2)                 8         \n",
      "=================================================================\n",
      "Total params: 111\n",
      "Trainable params: 111\n",
      "Non-trainable params: 0\n",
      "_________________________________________________________________\n"
     ]
    },
    {
     "data": {
      "text/plain": [
       "None"
      ]
     },
     "metadata": {},
     "output_type": "display_data"
    }
   ],
   "source": [
    "# Compile model\n",
    "# Loss is specified for binary classification\n",
    "model_NN.compile(loss='categorical_crossentropy', optimizer='adam', metrics=['accuracy'])\n",
    "\n",
    "# Display model\n",
    "display(model_NN.summary())"
   ]
  },
  {
   "cell_type": "code",
   "execution_count": 47,
   "metadata": {},
   "outputs": [
    {
     "name": "stdout",
     "output_type": "stream",
     "text": [
      "Train on 99 samples, validate on 67 samples\n",
      "Epoch 1/50\n",
      "99/99 [==============================] - 0s 4ms/step - loss: 0.6487 - acc: 0.7071 - val_loss: 0.6620 - val_acc: 0.6567\n",
      "Epoch 2/50\n",
      "99/99 [==============================] - 0s 66us/step - loss: 0.6424 - acc: 0.7071 - val_loss: 0.6613 - val_acc: 0.6567\n",
      "Epoch 3/50\n",
      "99/99 [==============================] - 0s 81us/step - loss: 0.6368 - acc: 0.7071 - val_loss: 0.6616 - val_acc: 0.6567\n",
      "Epoch 4/50\n",
      "99/99 [==============================] - 0s 60us/step - loss: 0.6326 - acc: 0.7071 - val_loss: 0.6610 - val_acc: 0.6567\n",
      "Epoch 5/50\n",
      "99/99 [==============================] - 0s 60us/step - loss: 0.6294 - acc: 0.7071 - val_loss: 0.6609 - val_acc: 0.6567\n",
      "Epoch 6/50\n",
      "99/99 [==============================] - 0s 91us/step - loss: 0.6259 - acc: 0.7071 - val_loss: 0.6598 - val_acc: 0.6567\n",
      "Epoch 7/50\n",
      "99/99 [==============================] - 0s 60us/step - loss: 0.6233 - acc: 0.7071 - val_loss: 0.6574 - val_acc: 0.6567\n",
      "Epoch 8/50\n",
      "99/99 [==============================] - 0s 90us/step - loss: 0.6209 - acc: 0.7071 - val_loss: 0.6553 - val_acc: 0.6567\n",
      "Epoch 9/50\n",
      "99/99 [==============================] - 0s 71us/step - loss: 0.6189 - acc: 0.7071 - val_loss: 0.6532 - val_acc: 0.6567\n",
      "Epoch 10/50\n",
      "99/99 [==============================] - 0s 80us/step - loss: 0.6178 - acc: 0.7071 - val_loss: 0.6516 - val_acc: 0.6567\n",
      "Epoch 11/50\n",
      "99/99 [==============================] - 0s 101us/step - loss: 0.6160 - acc: 0.7071 - val_loss: 0.6507 - val_acc: 0.6567\n",
      "Epoch 12/50\n",
      "99/99 [==============================] - 0s 60us/step - loss: 0.6146 - acc: 0.7071 - val_loss: 0.6504 - val_acc: 0.6567\n",
      "Epoch 13/50\n",
      "99/99 [==============================] - 0s 50us/step - loss: 0.6126 - acc: 0.7071 - val_loss: 0.6500 - val_acc: 0.6567\n",
      "Epoch 14/50\n",
      "99/99 [==============================] - 0s 101us/step - loss: 0.6112 - acc: 0.7071 - val_loss: 0.6494 - val_acc: 0.6567\n",
      "Epoch 15/50\n",
      "99/99 [==============================] - 0s 61us/step - loss: 0.6094 - acc: 0.7071 - val_loss: 0.6490 - val_acc: 0.6567\n",
      "Epoch 16/50\n",
      "99/99 [==============================] - 0s 91us/step - loss: 0.6083 - acc: 0.7071 - val_loss: 0.6489 - val_acc: 0.6567\n",
      "Epoch 17/50\n",
      "99/99 [==============================] - 0s 81us/step - loss: 0.6068 - acc: 0.7071 - val_loss: 0.6484 - val_acc: 0.6567\n",
      "Epoch 18/50\n",
      "99/99 [==============================] - 0s 71us/step - loss: 0.6052 - acc: 0.7071 - val_loss: 0.6475 - val_acc: 0.6567\n",
      "Epoch 19/50\n",
      "99/99 [==============================] - 0s 81us/step - loss: 0.6039 - acc: 0.7071 - val_loss: 0.6460 - val_acc: 0.6567\n",
      "Epoch 20/50\n",
      "99/99 [==============================] - 0s 60us/step - loss: 0.6023 - acc: 0.7071 - val_loss: 0.6456 - val_acc: 0.6567\n",
      "Epoch 21/50\n",
      "99/99 [==============================] - 0s 60us/step - loss: 0.6011 - acc: 0.7071 - val_loss: 0.6450 - val_acc: 0.6567\n",
      "Epoch 22/50\n",
      "99/99 [==============================] - 0s 91us/step - loss: 0.6000 - acc: 0.7071 - val_loss: 0.6438 - val_acc: 0.6567\n",
      "Epoch 23/50\n",
      "99/99 [==============================] - 0s 81us/step - loss: 0.5988 - acc: 0.7071 - val_loss: 0.6424 - val_acc: 0.6567\n",
      "Epoch 24/50\n",
      "99/99 [==============================] - 0s 50us/step - loss: 0.5977 - acc: 0.7071 - val_loss: 0.6416 - val_acc: 0.6567\n",
      "Epoch 25/50\n",
      "99/99 [==============================] - 0s 81us/step - loss: 0.5964 - acc: 0.7071 - val_loss: 0.6417 - val_acc: 0.6567\n",
      "Epoch 26/50\n",
      "99/99 [==============================] - 0s 60us/step - loss: 0.5954 - acc: 0.7071 - val_loss: 0.6426 - val_acc: 0.6567\n",
      "Epoch 27/50\n",
      "99/99 [==============================] - 0s 50us/step - loss: 0.5943 - acc: 0.7071 - val_loss: 0.6438 - val_acc: 0.6567\n",
      "Epoch 28/50\n",
      "99/99 [==============================] - 0s 101us/step - loss: 0.5935 - acc: 0.7071 - val_loss: 0.6448 - val_acc: 0.6567\n",
      "Epoch 29/50\n",
      "99/99 [==============================] - 0s 50us/step - loss: 0.5921 - acc: 0.7071 - val_loss: 0.6446 - val_acc: 0.6567\n",
      "Epoch 30/50\n",
      "99/99 [==============================] - 0s 81us/step - loss: 0.5898 - acc: 0.7071 - val_loss: 0.6449 - val_acc: 0.6567\n",
      "Epoch 31/50\n",
      "99/99 [==============================] - 0s 81us/step - loss: 0.5879 - acc: 0.7071 - val_loss: 0.6453 - val_acc: 0.6567\n",
      "Epoch 32/50\n",
      "99/99 [==============================] - 0s 60us/step - loss: 0.5857 - acc: 0.7071 - val_loss: 0.6461 - val_acc: 0.6567\n",
      "Epoch 33/50\n",
      "99/99 [==============================] - 0s 50us/step - loss: 0.5834 - acc: 0.7071 - val_loss: 0.6471 - val_acc: 0.6567\n",
      "Epoch 34/50\n",
      "99/99 [==============================] - 0s 71us/step - loss: 0.5812 - acc: 0.7071 - val_loss: 0.6472 - val_acc: 0.6567\n",
      "Epoch 35/50\n",
      "99/99 [==============================] - 0s 60us/step - loss: 0.5793 - acc: 0.7071 - val_loss: 0.6467 - val_acc: 0.6567\n",
      "Epoch 36/50\n",
      "99/99 [==============================] - 0s 81us/step - loss: 0.5770 - acc: 0.7071 - val_loss: 0.6465 - val_acc: 0.6567\n",
      "Epoch 37/50\n",
      "99/99 [==============================] - 0s 60us/step - loss: 0.5743 - acc: 0.7071 - val_loss: 0.6467 - val_acc: 0.6567\n",
      "Epoch 38/50\n",
      "99/99 [==============================] - 0s 91us/step - loss: 0.5715 - acc: 0.7071 - val_loss: 0.6471 - val_acc: 0.6567\n",
      "Epoch 39/50\n",
      "99/99 [==============================] - 0s 50us/step - loss: 0.5688 - acc: 0.7071 - val_loss: 0.6474 - val_acc: 0.6567\n",
      "Epoch 40/50\n",
      "99/99 [==============================] - 0s 50us/step - loss: 0.5660 - acc: 0.7071 - val_loss: 0.6476 - val_acc: 0.6567\n",
      "Epoch 41/50\n",
      "99/99 [==============================] - 0s 81us/step - loss: 0.5634 - acc: 0.7071 - val_loss: 0.6483 - val_acc: 0.6567\n",
      "Epoch 42/50\n",
      "99/99 [==============================] - 0s 50us/step - loss: 0.5599 - acc: 0.7071 - val_loss: 0.6492 - val_acc: 0.6567\n",
      "Epoch 43/50\n",
      "99/99 [==============================] - 0s 81us/step - loss: 0.5565 - acc: 0.7071 - val_loss: 0.6495 - val_acc: 0.6567\n",
      "Epoch 44/50\n",
      "99/99 [==============================] - 0s 50us/step - loss: 0.5530 - acc: 0.7071 - val_loss: 0.6499 - val_acc: 0.6567\n",
      "Epoch 45/50\n",
      "99/99 [==============================] - 0s 60us/step - loss: 0.5501 - acc: 0.7071 - val_loss: 0.6507 - val_acc: 0.6567\n",
      "Epoch 46/50\n",
      "99/99 [==============================] - 0s 60us/step - loss: 0.5477 - acc: 0.7071 - val_loss: 0.6500 - val_acc: 0.6567\n",
      "Epoch 47/50\n",
      "99/99 [==============================] - 0s 50us/step - loss: 0.5456 - acc: 0.7071 - val_loss: 0.6500 - val_acc: 0.6567\n",
      "Epoch 48/50\n",
      "99/99 [==============================] - 0s 81us/step - loss: 0.5436 - acc: 0.7071 - val_loss: 0.6508 - val_acc: 0.6567\n",
      "Epoch 49/50\n",
      "99/99 [==============================] - 0s 60us/step - loss: 0.5419 - acc: 0.7071 - val_loss: 0.6512 - val_acc: 0.6567\n",
      "Epoch 50/50\n",
      "99/99 [==============================] - 0s 81us/step - loss: 0.5404 - acc: 0.7071 - val_loss: 0.6499 - val_acc: 0.6567\n"
     ]
    }
   ],
   "source": [
    "# Fit the model with scaled and categorical data\n",
    "model_fitted = model_NN.fit(X_train_scaled, y_train_cat, epochs=50, batch_size=32, validation_split = .4)"
   ]
  },
  {
   "cell_type": "code",
   "execution_count": 48,
   "metadata": {
    "scrolled": false
   },
   "outputs": [
    {
     "name": "stdout",
     "output_type": "stream",
     "text": [
      "167/167 [==============================] - 0s 24us/step\n",
      "Accuracy score of neural net = 0.688623.\n"
     ]
    }
   ],
   "source": [
    "accuracy_score_nn = model_NN.evaluate(X_test_scaled,y_test_cat,batch_size=32)[1]\n",
    "print('Accuracy score of neural net = {:f}.'.format(accuracy_score_nn))"
   ]
  },
  {
   "cell_type": "markdown",
   "metadata": {},
   "source": [
    "# MLPClassifier"
   ]
  },
  {
   "cell_type": "code",
   "execution_count": 49,
   "metadata": {},
   "outputs": [],
   "source": [
    "from sklearn.neural_network import MLPClassifier"
   ]
  },
  {
   "cell_type": "code",
   "execution_count": 50,
   "metadata": {},
   "outputs": [],
   "source": [
    "#The parameters of the model has been optimized\n",
    "clf = MLPClassifier(solver='lbfgs', alpha=1e-5, hidden_layer_sizes=(7,2), random_state=1, warm_start=True)"
   ]
  },
  {
   "cell_type": "code",
   "execution_count": 51,
   "metadata": {},
   "outputs": [],
   "source": [
    "y_pred=clf.fit(X_train_scaled, y_train).predict(X_test_scaled)"
   ]
  },
  {
   "cell_type": "code",
   "execution_count": 52,
   "metadata": {},
   "outputs": [],
   "source": [
    "#Calculate the accuracy of test data\n",
    "test_acc=np.sum(y_test.values == y_pred)/ len(y_test)"
   ]
  },
  {
   "cell_type": "code",
   "execution_count": 53,
   "metadata": {},
   "outputs": [],
   "source": [
    "y_train_pred=clf.fit(X_train_scaled, y_train).predict(X_train_scaled)"
   ]
  },
  {
   "cell_type": "code",
   "execution_count": 54,
   "metadata": {},
   "outputs": [],
   "source": [
    "#Calculate the accuracy of training data\n",
    "train_acc=np.sum(y_train.values == y_train_pred)/ len(y_train)"
   ]
  },
  {
   "cell_type": "code",
   "execution_count": 55,
   "metadata": {},
   "outputs": [
    {
     "name": "stdout",
     "output_type": "stream",
     "text": [
      "The classification accuracy of MLPClassifer on train data is: 0.687\n",
      "The classification accuracy of MLPClassifer on test data is: 0.689\n"
     ]
    }
   ],
   "source": [
    "print(\"The classification accuracy of MLPClassifer on train data is: {:.3f}\".format(train_acc))\n",
    "print(\"The classification accuracy of MLPClassifer on test data is: {:.3f}\".format(test_acc))"
   ]
  },
  {
   "cell_type": "markdown",
   "metadata": {},
   "source": [
    "## FINAL COMPARISON\n"
   ]
  },
  {
   "cell_type": "code",
   "execution_count": 56,
   "metadata": {},
   "outputs": [
    {
     "data": {
      "image/png": "[encoded data removed]",
      "text/plain": [
       "<matplotlib.figure.Figure at 0x1e9e894c9e8>"
      ]
     },
     "metadata": {},
     "output_type": "display_data"
    }
   ],
   "source": [
    "def set_labels(ax):\n",
    "    \"\"\"\n",
    "    This is just a 'helper funtion' used in this question to make\n",
    "    creating lables a bit more neat.\n",
    "    input:  ax on which to set labels\n",
    "    \"\"\"\n",
    "    ax.set_title(\"Final Comparision of Models' Prediction Accuracy\", fontsize=18)\n",
    "    ax.set_xlabel('Type of Model', fontsize=15)\n",
    "    ax.set_ylabel('Accuracy',fontsize=15)\n",
    "    ax.set_xticks(x_axis)\n",
    "    ax.set_xticklabels(x_labels)\n",
    "    ax.set_ylim([0,1.1])\n",
    "    ax.grid('True', alpha=.5, axis='y')\n",
    "    return()\n",
    "\n",
    "\n",
    "# Find the bic model that did the best among all classes\n",
    "best_tuned_score = 0\n",
    "best_tuned_model = ''\n",
    "for i in range(7):\n",
    "    if float(optimized_model.loc[i,'Testing_Result']) > best_tuned_score:\n",
    "        best_tuned_score = float(optimized_model.loc[i,'Testing_Result'])\n",
    "        best_tuned_model = str(optimized_model.loc[i,'Model'])\n",
    "    else:\n",
    "        pass\n",
    "\n",
    "# Get fig, ax for plotting\n",
    "fig, ax = plt.subplots(figsize=(18,6))\n",
    "\n",
    "# Create x axis and bar width for plotting from results in array\n",
    "x_labels = ['Best Tuned {:s}'.format(best_tuned_model), 'Ensemble Model', 'NLTK Tweet Level','Neural Network', 'MLPClassifier']\n",
    "x_axis = np.arange(len(x_labels))\n",
    "bar_width = .8\n",
    "\n",
    "# Create y axis for plotting from testing results\n",
    "y_numbers = [best_tuned_score,ensemble_results_test,.85,accuracy_score_nn, test_acc]\n",
    "\n",
    "# Plot testing score accuracy for each base model\n",
    "ax.bar(x_axis,y_numbers, width=bar_width)\n",
    "\n",
    "# Print values on the bars\n",
    "for i, label in enumerate(x_labels):\n",
    "    score = y_numbers[i]\n",
    "    ax.annotate('{:f}'.format(score), (i-.15, score + 0.01))\n",
    "    \n",
    "# Show titles and labels, etc.\n",
    "set_labels(ax)\n",
    "\n",
    "# Save the plot\n",
    "fig.savefig('Twitter-3.png', bbox_inches='tight')"
   ]
  }
 ],
 "metadata": {
  "kernelspec": {
   "display_name": "Python 3",
   "language": "python",
   "name": "python3"
  },
  "language_info": {
   "codemirror_mode": {
    "name": "ipython",
    "version": 3
   },
   "file_extension": ".py",
   "mimetype": "text/x-python",
   "name": "python",
   "nbconvert_exporter": "python",
   "pygments_lexer": "ipython3",
   "version": "3.6.4"
  }
 },
 "nbformat": 4,
 "nbformat_minor": 2
}
